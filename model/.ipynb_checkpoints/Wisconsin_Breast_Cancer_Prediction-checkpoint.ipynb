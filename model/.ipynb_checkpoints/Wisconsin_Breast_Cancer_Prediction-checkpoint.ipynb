{
 "cells": [
  {
   "cell_type": "markdown",
   "metadata": {
    "id": "0PjUGQuX-FNi"
   },
   "source": [
    "# Wisconsin Breast Cancer Prediction"
   ]
  },
  {
   "cell_type": "markdown",
   "metadata": {
    "id": "RYc5jo-6-GzW"
   },
   "source": [
    "## Load Data"
   ]
  },
  {
   "cell_type": "code",
   "execution_count": 1,
   "metadata": {
    "id": "qwiAdNYCpiWo"
   },
   "outputs": [],
   "source": [
    "import pandas as pd\n",
    "import matplotlib.pyplot as plt\n",
    "import seaborn as sns\n",
    "import numpy as np\n",
    "import sklearn\n",
    "import pickle\n",
    "from sklearn import preprocessing\n",
    "from sklearn import model_selection\n",
    "from sklearn.preprocessing import LabelEncoder\n",
    "from sklearn.preprocessing import StandardScaler\n",
    "from sklearn.ensemble import RandomForestClassifier\n",
    "from sklearn.naive_bayes import GaussianNB\n",
    "from sklearn.model_selection import train_test_split\n",
    "from sklearn.model_selection import KFold\n",
    "from sklearn.model_selection import cross_val_score\n",
    "from imblearn.over_sampling import BorderlineSMOTE\n",
    "from sklearn.metrics import classification_report, confusion_matrix\n",
    "from sklearn.metrics import make_scorer\n",
    "from sklearn.metrics import (precision_score, accuracy_score, recall_score, f1_score)\n",
    "import warnings\n",
    "warnings.filterwarnings('ignore')"
   ]
  },
  {
   "cell_type": "code",
   "execution_count": 2,
   "metadata": {
    "colab": {
     "base_uri": "https://localhost:8080/"
    },
    "id": "cLQDr4i0p-gA",
    "outputId": "b772d11b-ceb2-41bc-e88b-21c8aea9c1ac"
   },
   "outputs": [
    {
     "name": "stdout",
     "output_type": "stream",
     "text": [
      "     sample_code_number  clump_thickness  uniformity_of_cell_size  \\\n",
      "0               1000025                5                        1   \n",
      "1               1002945                5                        4   \n",
      "2               1015425                3                        1   \n",
      "3               1016277                6                        8   \n",
      "4               1017023                4                        1   \n",
      "..                  ...              ...                      ...   \n",
      "694              776715                3                        1   \n",
      "695              841769                2                        1   \n",
      "696              888820                5                       10   \n",
      "697              897471                4                        8   \n",
      "698              897471                4                        8   \n",
      "\n",
      "     uniformity_of_cell_shape  marginal_adhesion  single_epithelial_cell_size  \\\n",
      "0                           1                  1                            2   \n",
      "1                           4                  5                            7   \n",
      "2                           1                  1                            2   \n",
      "3                           8                  1                            3   \n",
      "4                           1                  3                            2   \n",
      "..                        ...                ...                          ...   \n",
      "694                         1                  1                            3   \n",
      "695                         1                  1                            2   \n",
      "696                        10                  3                            7   \n",
      "697                         6                  4                            3   \n",
      "698                         8                  5                            4   \n",
      "\n",
      "    bare_nuclei  bland_chromatin  normal_nucleoli  mitoses  class  \n",
      "0             1                3                1        1      2  \n",
      "1            10                3                2        1      2  \n",
      "2             2                3                1        1      2  \n",
      "3             4                3                7        1      2  \n",
      "4             1                3                1        1      2  \n",
      "..          ...              ...              ...      ...    ...  \n",
      "694           2                1                1        1      2  \n",
      "695           1                1                1        1      2  \n",
      "696           3                8               10        2      4  \n",
      "697           4               10                6        1      4  \n",
      "698           5               10                4        1      4  \n",
      "\n",
      "[699 rows x 11 columns]\n"
     ]
    }
   ],
   "source": [
    "url = 'https://archive.ics.uci.edu/ml/machine-learning-databases/breast-cancer-wisconsin/breast-cancer-wisconsin.data'\n",
    "col_names = ['sample_code_number', 'clump_thickness', 'uniformity_of_cell_size',\n",
    "             'uniformity_of_cell_shape', 'marginal_adhesion', 'single_epithelial_cell_size',\n",
    "             'bare_nuclei', 'bland_chromatin', 'normal_nucleoli', 'mitoses', 'class']\n",
    "data = pd.read_csv(url, names=col_names)\n",
    "print(data)"
   ]
  },
  {
   "cell_type": "markdown",
   "metadata": {
    "id": "7GZF20h96iNp"
   },
   "source": [
    "## Exploratory Data Analysis and Data Preprocessing"
   ]
  },
  {
   "cell_type": "code",
   "execution_count": 3,
   "metadata": {
    "colab": {
     "base_uri": "https://localhost:8080/",
     "height": 224
    },
    "id": "e_-rN40nqN-b",
    "outputId": "9ea98a9a-60f8-4d0c-9374-a41489132a9d"
   },
   "outputs": [
    {
     "data": {
      "text/html": [
       "<div>\n",
       "<style scoped>\n",
       "    .dataframe tbody tr th:only-of-type {\n",
       "        vertical-align: middle;\n",
       "    }\n",
       "\n",
       "    .dataframe tbody tr th {\n",
       "        vertical-align: top;\n",
       "    }\n",
       "\n",
       "    .dataframe thead th {\n",
       "        text-align: right;\n",
       "    }\n",
       "</style>\n",
       "<table border=\"1\" class=\"dataframe\">\n",
       "  <thead>\n",
       "    <tr style=\"text-align: right;\">\n",
       "      <th></th>\n",
       "      <th>sample_code_number</th>\n",
       "      <th>clump_thickness</th>\n",
       "      <th>uniformity_of_cell_size</th>\n",
       "      <th>uniformity_of_cell_shape</th>\n",
       "      <th>marginal_adhesion</th>\n",
       "      <th>single_epithelial_cell_size</th>\n",
       "      <th>bare_nuclei</th>\n",
       "      <th>bland_chromatin</th>\n",
       "      <th>normal_nucleoli</th>\n",
       "      <th>mitoses</th>\n",
       "      <th>class</th>\n",
       "    </tr>\n",
       "  </thead>\n",
       "  <tbody>\n",
       "    <tr>\n",
       "      <th>0</th>\n",
       "      <td>1000025</td>\n",
       "      <td>5</td>\n",
       "      <td>1</td>\n",
       "      <td>1</td>\n",
       "      <td>1</td>\n",
       "      <td>2</td>\n",
       "      <td>1</td>\n",
       "      <td>3</td>\n",
       "      <td>1</td>\n",
       "      <td>1</td>\n",
       "      <td>2</td>\n",
       "    </tr>\n",
       "    <tr>\n",
       "      <th>1</th>\n",
       "      <td>1002945</td>\n",
       "      <td>5</td>\n",
       "      <td>4</td>\n",
       "      <td>4</td>\n",
       "      <td>5</td>\n",
       "      <td>7</td>\n",
       "      <td>10</td>\n",
       "      <td>3</td>\n",
       "      <td>2</td>\n",
       "      <td>1</td>\n",
       "      <td>2</td>\n",
       "    </tr>\n",
       "    <tr>\n",
       "      <th>2</th>\n",
       "      <td>1015425</td>\n",
       "      <td>3</td>\n",
       "      <td>1</td>\n",
       "      <td>1</td>\n",
       "      <td>1</td>\n",
       "      <td>2</td>\n",
       "      <td>2</td>\n",
       "      <td>3</td>\n",
       "      <td>1</td>\n",
       "      <td>1</td>\n",
       "      <td>2</td>\n",
       "    </tr>\n",
       "    <tr>\n",
       "      <th>3</th>\n",
       "      <td>1016277</td>\n",
       "      <td>6</td>\n",
       "      <td>8</td>\n",
       "      <td>8</td>\n",
       "      <td>1</td>\n",
       "      <td>3</td>\n",
       "      <td>4</td>\n",
       "      <td>3</td>\n",
       "      <td>7</td>\n",
       "      <td>1</td>\n",
       "      <td>2</td>\n",
       "    </tr>\n",
       "    <tr>\n",
       "      <th>4</th>\n",
       "      <td>1017023</td>\n",
       "      <td>4</td>\n",
       "      <td>1</td>\n",
       "      <td>1</td>\n",
       "      <td>3</td>\n",
       "      <td>2</td>\n",
       "      <td>1</td>\n",
       "      <td>3</td>\n",
       "      <td>1</td>\n",
       "      <td>1</td>\n",
       "      <td>2</td>\n",
       "    </tr>\n",
       "    <tr>\n",
       "      <th>5</th>\n",
       "      <td>1017122</td>\n",
       "      <td>8</td>\n",
       "      <td>10</td>\n",
       "      <td>10</td>\n",
       "      <td>8</td>\n",
       "      <td>7</td>\n",
       "      <td>10</td>\n",
       "      <td>9</td>\n",
       "      <td>7</td>\n",
       "      <td>1</td>\n",
       "      <td>4</td>\n",
       "    </tr>\n",
       "    <tr>\n",
       "      <th>6</th>\n",
       "      <td>1018099</td>\n",
       "      <td>1</td>\n",
       "      <td>1</td>\n",
       "      <td>1</td>\n",
       "      <td>1</td>\n",
       "      <td>2</td>\n",
       "      <td>10</td>\n",
       "      <td>3</td>\n",
       "      <td>1</td>\n",
       "      <td>1</td>\n",
       "      <td>2</td>\n",
       "    </tr>\n",
       "    <tr>\n",
       "      <th>7</th>\n",
       "      <td>1018561</td>\n",
       "      <td>2</td>\n",
       "      <td>1</td>\n",
       "      <td>2</td>\n",
       "      <td>1</td>\n",
       "      <td>2</td>\n",
       "      <td>1</td>\n",
       "      <td>3</td>\n",
       "      <td>1</td>\n",
       "      <td>1</td>\n",
       "      <td>2</td>\n",
       "    </tr>\n",
       "    <tr>\n",
       "      <th>8</th>\n",
       "      <td>1033078</td>\n",
       "      <td>2</td>\n",
       "      <td>1</td>\n",
       "      <td>1</td>\n",
       "      <td>1</td>\n",
       "      <td>2</td>\n",
       "      <td>1</td>\n",
       "      <td>1</td>\n",
       "      <td>1</td>\n",
       "      <td>5</td>\n",
       "      <td>2</td>\n",
       "    </tr>\n",
       "    <tr>\n",
       "      <th>9</th>\n",
       "      <td>1033078</td>\n",
       "      <td>4</td>\n",
       "      <td>2</td>\n",
       "      <td>1</td>\n",
       "      <td>1</td>\n",
       "      <td>2</td>\n",
       "      <td>1</td>\n",
       "      <td>2</td>\n",
       "      <td>1</td>\n",
       "      <td>1</td>\n",
       "      <td>2</td>\n",
       "    </tr>\n",
       "    <tr>\n",
       "      <th>10</th>\n",
       "      <td>1035283</td>\n",
       "      <td>1</td>\n",
       "      <td>1</td>\n",
       "      <td>1</td>\n",
       "      <td>1</td>\n",
       "      <td>1</td>\n",
       "      <td>1</td>\n",
       "      <td>3</td>\n",
       "      <td>1</td>\n",
       "      <td>1</td>\n",
       "      <td>2</td>\n",
       "    </tr>\n",
       "    <tr>\n",
       "      <th>11</th>\n",
       "      <td>1036172</td>\n",
       "      <td>2</td>\n",
       "      <td>1</td>\n",
       "      <td>1</td>\n",
       "      <td>1</td>\n",
       "      <td>2</td>\n",
       "      <td>1</td>\n",
       "      <td>2</td>\n",
       "      <td>1</td>\n",
       "      <td>1</td>\n",
       "      <td>2</td>\n",
       "    </tr>\n",
       "    <tr>\n",
       "      <th>12</th>\n",
       "      <td>1041801</td>\n",
       "      <td>5</td>\n",
       "      <td>3</td>\n",
       "      <td>3</td>\n",
       "      <td>3</td>\n",
       "      <td>2</td>\n",
       "      <td>3</td>\n",
       "      <td>4</td>\n",
       "      <td>4</td>\n",
       "      <td>1</td>\n",
       "      <td>4</td>\n",
       "    </tr>\n",
       "    <tr>\n",
       "      <th>13</th>\n",
       "      <td>1043999</td>\n",
       "      <td>1</td>\n",
       "      <td>1</td>\n",
       "      <td>1</td>\n",
       "      <td>1</td>\n",
       "      <td>2</td>\n",
       "      <td>3</td>\n",
       "      <td>3</td>\n",
       "      <td>1</td>\n",
       "      <td>1</td>\n",
       "      <td>2</td>\n",
       "    </tr>\n",
       "    <tr>\n",
       "      <th>14</th>\n",
       "      <td>1044572</td>\n",
       "      <td>8</td>\n",
       "      <td>7</td>\n",
       "      <td>5</td>\n",
       "      <td>10</td>\n",
       "      <td>7</td>\n",
       "      <td>9</td>\n",
       "      <td>5</td>\n",
       "      <td>5</td>\n",
       "      <td>4</td>\n",
       "      <td>4</td>\n",
       "    </tr>\n",
       "    <tr>\n",
       "      <th>15</th>\n",
       "      <td>1047630</td>\n",
       "      <td>7</td>\n",
       "      <td>4</td>\n",
       "      <td>6</td>\n",
       "      <td>4</td>\n",
       "      <td>6</td>\n",
       "      <td>1</td>\n",
       "      <td>4</td>\n",
       "      <td>3</td>\n",
       "      <td>1</td>\n",
       "      <td>4</td>\n",
       "    </tr>\n",
       "    <tr>\n",
       "      <th>16</th>\n",
       "      <td>1048672</td>\n",
       "      <td>4</td>\n",
       "      <td>1</td>\n",
       "      <td>1</td>\n",
       "      <td>1</td>\n",
       "      <td>2</td>\n",
       "      <td>1</td>\n",
       "      <td>2</td>\n",
       "      <td>1</td>\n",
       "      <td>1</td>\n",
       "      <td>2</td>\n",
       "    </tr>\n",
       "    <tr>\n",
       "      <th>17</th>\n",
       "      <td>1049815</td>\n",
       "      <td>4</td>\n",
       "      <td>1</td>\n",
       "      <td>1</td>\n",
       "      <td>1</td>\n",
       "      <td>2</td>\n",
       "      <td>1</td>\n",
       "      <td>3</td>\n",
       "      <td>1</td>\n",
       "      <td>1</td>\n",
       "      <td>2</td>\n",
       "    </tr>\n",
       "    <tr>\n",
       "      <th>18</th>\n",
       "      <td>1050670</td>\n",
       "      <td>10</td>\n",
       "      <td>7</td>\n",
       "      <td>7</td>\n",
       "      <td>6</td>\n",
       "      <td>4</td>\n",
       "      <td>10</td>\n",
       "      <td>4</td>\n",
       "      <td>1</td>\n",
       "      <td>2</td>\n",
       "      <td>4</td>\n",
       "    </tr>\n",
       "    <tr>\n",
       "      <th>19</th>\n",
       "      <td>1050718</td>\n",
       "      <td>6</td>\n",
       "      <td>1</td>\n",
       "      <td>1</td>\n",
       "      <td>1</td>\n",
       "      <td>2</td>\n",
       "      <td>1</td>\n",
       "      <td>3</td>\n",
       "      <td>1</td>\n",
       "      <td>1</td>\n",
       "      <td>2</td>\n",
       "    </tr>\n",
       "  </tbody>\n",
       "</table>\n",
       "</div>"
      ],
      "text/plain": [
       "    sample_code_number  clump_thickness  uniformity_of_cell_size  \\\n",
       "0              1000025                5                        1   \n",
       "1              1002945                5                        4   \n",
       "2              1015425                3                        1   \n",
       "3              1016277                6                        8   \n",
       "4              1017023                4                        1   \n",
       "5              1017122                8                       10   \n",
       "6              1018099                1                        1   \n",
       "7              1018561                2                        1   \n",
       "8              1033078                2                        1   \n",
       "9              1033078                4                        2   \n",
       "10             1035283                1                        1   \n",
       "11             1036172                2                        1   \n",
       "12             1041801                5                        3   \n",
       "13             1043999                1                        1   \n",
       "14             1044572                8                        7   \n",
       "15             1047630                7                        4   \n",
       "16             1048672                4                        1   \n",
       "17             1049815                4                        1   \n",
       "18             1050670               10                        7   \n",
       "19             1050718                6                        1   \n",
       "\n",
       "    uniformity_of_cell_shape  marginal_adhesion  single_epithelial_cell_size  \\\n",
       "0                          1                  1                            2   \n",
       "1                          4                  5                            7   \n",
       "2                          1                  1                            2   \n",
       "3                          8                  1                            3   \n",
       "4                          1                  3                            2   \n",
       "5                         10                  8                            7   \n",
       "6                          1                  1                            2   \n",
       "7                          2                  1                            2   \n",
       "8                          1                  1                            2   \n",
       "9                          1                  1                            2   \n",
       "10                         1                  1                            1   \n",
       "11                         1                  1                            2   \n",
       "12                         3                  3                            2   \n",
       "13                         1                  1                            2   \n",
       "14                         5                 10                            7   \n",
       "15                         6                  4                            6   \n",
       "16                         1                  1                            2   \n",
       "17                         1                  1                            2   \n",
       "18                         7                  6                            4   \n",
       "19                         1                  1                            2   \n",
       "\n",
       "   bare_nuclei  bland_chromatin  normal_nucleoli  mitoses  class  \n",
       "0            1                3                1        1      2  \n",
       "1           10                3                2        1      2  \n",
       "2            2                3                1        1      2  \n",
       "3            4                3                7        1      2  \n",
       "4            1                3                1        1      2  \n",
       "5           10                9                7        1      4  \n",
       "6           10                3                1        1      2  \n",
       "7            1                3                1        1      2  \n",
       "8            1                1                1        5      2  \n",
       "9            1                2                1        1      2  \n",
       "10           1                3                1        1      2  \n",
       "11           1                2                1        1      2  \n",
       "12           3                4                4        1      4  \n",
       "13           3                3                1        1      2  \n",
       "14           9                5                5        4      4  \n",
       "15           1                4                3        1      4  \n",
       "16           1                2                1        1      2  \n",
       "17           1                3                1        1      2  \n",
       "18          10                4                1        2      4  \n",
       "19           1                3                1        1      2  "
      ]
     },
     "execution_count": 3,
     "metadata": {},
     "output_type": "execute_result"
    }
   ],
   "source": [
    "data = pd.DataFrame(data)\n",
    "data.head(20)"
   ]
  },
  {
   "cell_type": "code",
   "execution_count": 4,
   "metadata": {},
   "outputs": [
    {
     "data": {
      "text/html": [
       "<div>\n",
       "<style scoped>\n",
       "    .dataframe tbody tr th:only-of-type {\n",
       "        vertical-align: middle;\n",
       "    }\n",
       "\n",
       "    .dataframe tbody tr th {\n",
       "        vertical-align: top;\n",
       "    }\n",
       "\n",
       "    .dataframe thead th {\n",
       "        text-align: right;\n",
       "    }\n",
       "</style>\n",
       "<table border=\"1\" class=\"dataframe\">\n",
       "  <thead>\n",
       "    <tr style=\"text-align: right;\">\n",
       "      <th></th>\n",
       "      <th>sample_code_number</th>\n",
       "      <th>clump_thickness</th>\n",
       "      <th>uniformity_of_cell_size</th>\n",
       "      <th>uniformity_of_cell_shape</th>\n",
       "      <th>marginal_adhesion</th>\n",
       "      <th>single_epithelial_cell_size</th>\n",
       "      <th>bare_nuclei</th>\n",
       "      <th>bland_chromatin</th>\n",
       "      <th>normal_nucleoli</th>\n",
       "      <th>mitoses</th>\n",
       "      <th>class</th>\n",
       "    </tr>\n",
       "  </thead>\n",
       "  <tbody>\n",
       "    <tr>\n",
       "      <th>679</th>\n",
       "      <td>1368882</td>\n",
       "      <td>2</td>\n",
       "      <td>1</td>\n",
       "      <td>1</td>\n",
       "      <td>1</td>\n",
       "      <td>2</td>\n",
       "      <td>1</td>\n",
       "      <td>1</td>\n",
       "      <td>1</td>\n",
       "      <td>1</td>\n",
       "      <td>2</td>\n",
       "    </tr>\n",
       "    <tr>\n",
       "      <th>680</th>\n",
       "      <td>1369821</td>\n",
       "      <td>10</td>\n",
       "      <td>10</td>\n",
       "      <td>10</td>\n",
       "      <td>10</td>\n",
       "      <td>5</td>\n",
       "      <td>10</td>\n",
       "      <td>10</td>\n",
       "      <td>10</td>\n",
       "      <td>7</td>\n",
       "      <td>4</td>\n",
       "    </tr>\n",
       "    <tr>\n",
       "      <th>681</th>\n",
       "      <td>1371026</td>\n",
       "      <td>5</td>\n",
       "      <td>10</td>\n",
       "      <td>10</td>\n",
       "      <td>10</td>\n",
       "      <td>4</td>\n",
       "      <td>10</td>\n",
       "      <td>5</td>\n",
       "      <td>6</td>\n",
       "      <td>3</td>\n",
       "      <td>4</td>\n",
       "    </tr>\n",
       "    <tr>\n",
       "      <th>682</th>\n",
       "      <td>1371920</td>\n",
       "      <td>5</td>\n",
       "      <td>1</td>\n",
       "      <td>1</td>\n",
       "      <td>1</td>\n",
       "      <td>2</td>\n",
       "      <td>1</td>\n",
       "      <td>3</td>\n",
       "      <td>2</td>\n",
       "      <td>1</td>\n",
       "      <td>2</td>\n",
       "    </tr>\n",
       "    <tr>\n",
       "      <th>683</th>\n",
       "      <td>466906</td>\n",
       "      <td>1</td>\n",
       "      <td>1</td>\n",
       "      <td>1</td>\n",
       "      <td>1</td>\n",
       "      <td>2</td>\n",
       "      <td>1</td>\n",
       "      <td>1</td>\n",
       "      <td>1</td>\n",
       "      <td>1</td>\n",
       "      <td>2</td>\n",
       "    </tr>\n",
       "    <tr>\n",
       "      <th>684</th>\n",
       "      <td>466906</td>\n",
       "      <td>1</td>\n",
       "      <td>1</td>\n",
       "      <td>1</td>\n",
       "      <td>1</td>\n",
       "      <td>2</td>\n",
       "      <td>1</td>\n",
       "      <td>1</td>\n",
       "      <td>1</td>\n",
       "      <td>1</td>\n",
       "      <td>2</td>\n",
       "    </tr>\n",
       "    <tr>\n",
       "      <th>685</th>\n",
       "      <td>534555</td>\n",
       "      <td>1</td>\n",
       "      <td>1</td>\n",
       "      <td>1</td>\n",
       "      <td>1</td>\n",
       "      <td>2</td>\n",
       "      <td>1</td>\n",
       "      <td>1</td>\n",
       "      <td>1</td>\n",
       "      <td>1</td>\n",
       "      <td>2</td>\n",
       "    </tr>\n",
       "    <tr>\n",
       "      <th>686</th>\n",
       "      <td>536708</td>\n",
       "      <td>1</td>\n",
       "      <td>1</td>\n",
       "      <td>1</td>\n",
       "      <td>1</td>\n",
       "      <td>2</td>\n",
       "      <td>1</td>\n",
       "      <td>1</td>\n",
       "      <td>1</td>\n",
       "      <td>1</td>\n",
       "      <td>2</td>\n",
       "    </tr>\n",
       "    <tr>\n",
       "      <th>687</th>\n",
       "      <td>566346</td>\n",
       "      <td>3</td>\n",
       "      <td>1</td>\n",
       "      <td>1</td>\n",
       "      <td>1</td>\n",
       "      <td>2</td>\n",
       "      <td>1</td>\n",
       "      <td>2</td>\n",
       "      <td>3</td>\n",
       "      <td>1</td>\n",
       "      <td>2</td>\n",
       "    </tr>\n",
       "    <tr>\n",
       "      <th>688</th>\n",
       "      <td>603148</td>\n",
       "      <td>4</td>\n",
       "      <td>1</td>\n",
       "      <td>1</td>\n",
       "      <td>1</td>\n",
       "      <td>2</td>\n",
       "      <td>1</td>\n",
       "      <td>1</td>\n",
       "      <td>1</td>\n",
       "      <td>1</td>\n",
       "      <td>2</td>\n",
       "    </tr>\n",
       "    <tr>\n",
       "      <th>689</th>\n",
       "      <td>654546</td>\n",
       "      <td>1</td>\n",
       "      <td>1</td>\n",
       "      <td>1</td>\n",
       "      <td>1</td>\n",
       "      <td>2</td>\n",
       "      <td>1</td>\n",
       "      <td>1</td>\n",
       "      <td>1</td>\n",
       "      <td>8</td>\n",
       "      <td>2</td>\n",
       "    </tr>\n",
       "    <tr>\n",
       "      <th>690</th>\n",
       "      <td>654546</td>\n",
       "      <td>1</td>\n",
       "      <td>1</td>\n",
       "      <td>1</td>\n",
       "      <td>3</td>\n",
       "      <td>2</td>\n",
       "      <td>1</td>\n",
       "      <td>1</td>\n",
       "      <td>1</td>\n",
       "      <td>1</td>\n",
       "      <td>2</td>\n",
       "    </tr>\n",
       "    <tr>\n",
       "      <th>691</th>\n",
       "      <td>695091</td>\n",
       "      <td>5</td>\n",
       "      <td>10</td>\n",
       "      <td>10</td>\n",
       "      <td>5</td>\n",
       "      <td>4</td>\n",
       "      <td>5</td>\n",
       "      <td>4</td>\n",
       "      <td>4</td>\n",
       "      <td>1</td>\n",
       "      <td>4</td>\n",
       "    </tr>\n",
       "    <tr>\n",
       "      <th>692</th>\n",
       "      <td>714039</td>\n",
       "      <td>3</td>\n",
       "      <td>1</td>\n",
       "      <td>1</td>\n",
       "      <td>1</td>\n",
       "      <td>2</td>\n",
       "      <td>1</td>\n",
       "      <td>1</td>\n",
       "      <td>1</td>\n",
       "      <td>1</td>\n",
       "      <td>2</td>\n",
       "    </tr>\n",
       "    <tr>\n",
       "      <th>693</th>\n",
       "      <td>763235</td>\n",
       "      <td>3</td>\n",
       "      <td>1</td>\n",
       "      <td>1</td>\n",
       "      <td>1</td>\n",
       "      <td>2</td>\n",
       "      <td>1</td>\n",
       "      <td>2</td>\n",
       "      <td>1</td>\n",
       "      <td>2</td>\n",
       "      <td>2</td>\n",
       "    </tr>\n",
       "    <tr>\n",
       "      <th>694</th>\n",
       "      <td>776715</td>\n",
       "      <td>3</td>\n",
       "      <td>1</td>\n",
       "      <td>1</td>\n",
       "      <td>1</td>\n",
       "      <td>3</td>\n",
       "      <td>2</td>\n",
       "      <td>1</td>\n",
       "      <td>1</td>\n",
       "      <td>1</td>\n",
       "      <td>2</td>\n",
       "    </tr>\n",
       "    <tr>\n",
       "      <th>695</th>\n",
       "      <td>841769</td>\n",
       "      <td>2</td>\n",
       "      <td>1</td>\n",
       "      <td>1</td>\n",
       "      <td>1</td>\n",
       "      <td>2</td>\n",
       "      <td>1</td>\n",
       "      <td>1</td>\n",
       "      <td>1</td>\n",
       "      <td>1</td>\n",
       "      <td>2</td>\n",
       "    </tr>\n",
       "    <tr>\n",
       "      <th>696</th>\n",
       "      <td>888820</td>\n",
       "      <td>5</td>\n",
       "      <td>10</td>\n",
       "      <td>10</td>\n",
       "      <td>3</td>\n",
       "      <td>7</td>\n",
       "      <td>3</td>\n",
       "      <td>8</td>\n",
       "      <td>10</td>\n",
       "      <td>2</td>\n",
       "      <td>4</td>\n",
       "    </tr>\n",
       "    <tr>\n",
       "      <th>697</th>\n",
       "      <td>897471</td>\n",
       "      <td>4</td>\n",
       "      <td>8</td>\n",
       "      <td>6</td>\n",
       "      <td>4</td>\n",
       "      <td>3</td>\n",
       "      <td>4</td>\n",
       "      <td>10</td>\n",
       "      <td>6</td>\n",
       "      <td>1</td>\n",
       "      <td>4</td>\n",
       "    </tr>\n",
       "    <tr>\n",
       "      <th>698</th>\n",
       "      <td>897471</td>\n",
       "      <td>4</td>\n",
       "      <td>8</td>\n",
       "      <td>8</td>\n",
       "      <td>5</td>\n",
       "      <td>4</td>\n",
       "      <td>5</td>\n",
       "      <td>10</td>\n",
       "      <td>4</td>\n",
       "      <td>1</td>\n",
       "      <td>4</td>\n",
       "    </tr>\n",
       "  </tbody>\n",
       "</table>\n",
       "</div>"
      ],
      "text/plain": [
       "     sample_code_number  clump_thickness  uniformity_of_cell_size  \\\n",
       "679             1368882                2                        1   \n",
       "680             1369821               10                       10   \n",
       "681             1371026                5                       10   \n",
       "682             1371920                5                        1   \n",
       "683              466906                1                        1   \n",
       "684              466906                1                        1   \n",
       "685              534555                1                        1   \n",
       "686              536708                1                        1   \n",
       "687              566346                3                        1   \n",
       "688              603148                4                        1   \n",
       "689              654546                1                        1   \n",
       "690              654546                1                        1   \n",
       "691              695091                5                       10   \n",
       "692              714039                3                        1   \n",
       "693              763235                3                        1   \n",
       "694              776715                3                        1   \n",
       "695              841769                2                        1   \n",
       "696              888820                5                       10   \n",
       "697              897471                4                        8   \n",
       "698              897471                4                        8   \n",
       "\n",
       "     uniformity_of_cell_shape  marginal_adhesion  single_epithelial_cell_size  \\\n",
       "679                         1                  1                            2   \n",
       "680                        10                 10                            5   \n",
       "681                        10                 10                            4   \n",
       "682                         1                  1                            2   \n",
       "683                         1                  1                            2   \n",
       "684                         1                  1                            2   \n",
       "685                         1                  1                            2   \n",
       "686                         1                  1                            2   \n",
       "687                         1                  1                            2   \n",
       "688                         1                  1                            2   \n",
       "689                         1                  1                            2   \n",
       "690                         1                  3                            2   \n",
       "691                        10                  5                            4   \n",
       "692                         1                  1                            2   \n",
       "693                         1                  1                            2   \n",
       "694                         1                  1                            3   \n",
       "695                         1                  1                            2   \n",
       "696                        10                  3                            7   \n",
       "697                         6                  4                            3   \n",
       "698                         8                  5                            4   \n",
       "\n",
       "    bare_nuclei  bland_chromatin  normal_nucleoli  mitoses  class  \n",
       "679           1                1                1        1      2  \n",
       "680          10               10               10        7      4  \n",
       "681          10                5                6        3      4  \n",
       "682           1                3                2        1      2  \n",
       "683           1                1                1        1      2  \n",
       "684           1                1                1        1      2  \n",
       "685           1                1                1        1      2  \n",
       "686           1                1                1        1      2  \n",
       "687           1                2                3        1      2  \n",
       "688           1                1                1        1      2  \n",
       "689           1                1                1        8      2  \n",
       "690           1                1                1        1      2  \n",
       "691           5                4                4        1      4  \n",
       "692           1                1                1        1      2  \n",
       "693           1                2                1        2      2  \n",
       "694           2                1                1        1      2  \n",
       "695           1                1                1        1      2  \n",
       "696           3                8               10        2      4  \n",
       "697           4               10                6        1      4  \n",
       "698           5               10                4        1      4  "
      ]
     },
     "execution_count": 4,
     "metadata": {},
     "output_type": "execute_result"
    }
   ],
   "source": [
    "data.tail(20)"
   ]
  },
  {
   "cell_type": "code",
   "execution_count": 4,
   "metadata": {
    "colab": {
     "base_uri": "https://localhost:8080/"
    },
    "id": "wQFRhWaCtw7a",
    "outputId": "ff1f2b78-e914-4094-867a-4540b3e1787c"
   },
   "outputs": [
    {
     "data": {
      "text/plain": [
       "(699, 11)"
      ]
     },
     "execution_count": 4,
     "metadata": {},
     "output_type": "execute_result"
    }
   ],
   "source": [
    "data.shape"
   ]
  },
  {
   "cell_type": "code",
   "execution_count": 5,
   "metadata": {
    "colab": {
     "base_uri": "https://localhost:8080/"
    },
    "id": "kmVR-AUGCEbM",
    "outputId": "552a00ea-92d3-47b4-a443-8d79ea5ad4f0"
   },
   "outputs": [
    {
     "data": {
      "text/plain": [
       "Index(['sample_code_number', 'clump_thickness', 'uniformity_of_cell_size',\n",
       "       'uniformity_of_cell_shape', 'marginal_adhesion',\n",
       "       'single_epithelial_cell_size', 'bare_nuclei', 'bland_chromatin',\n",
       "       'normal_nucleoli', 'mitoses', 'class'],\n",
       "      dtype='object')"
      ]
     },
     "execution_count": 5,
     "metadata": {},
     "output_type": "execute_result"
    }
   ],
   "source": [
    "data.columns"
   ]
  },
  {
   "cell_type": "code",
   "execution_count": 6,
   "metadata": {
    "colab": {
     "base_uri": "https://localhost:8080/"
    },
    "id": "ibIjMNNeuPkn",
    "outputId": "33e53f76-ada0-434c-c6ec-a51a489e8857"
   },
   "outputs": [
    {
     "name": "stdout",
     "output_type": "stream",
     "text": [
      "<class 'pandas.core.frame.DataFrame'>\n",
      "RangeIndex: 699 entries, 0 to 698\n",
      "Data columns (total 11 columns):\n",
      " #   Column                       Non-Null Count  Dtype \n",
      "---  ------                       --------------  ----- \n",
      " 0   sample_code_number           699 non-null    int64 \n",
      " 1   clump_thickness              699 non-null    int64 \n",
      " 2   uniformity_of_cell_size      699 non-null    int64 \n",
      " 3   uniformity_of_cell_shape     699 non-null    int64 \n",
      " 4   marginal_adhesion            699 non-null    int64 \n",
      " 5   single_epithelial_cell_size  699 non-null    int64 \n",
      " 6   bare_nuclei                  699 non-null    object\n",
      " 7   bland_chromatin              699 non-null    int64 \n",
      " 8   normal_nucleoli              699 non-null    int64 \n",
      " 9   mitoses                      699 non-null    int64 \n",
      " 10  class                        699 non-null    int64 \n",
      "dtypes: int64(10), object(1)\n",
      "memory usage: 60.2+ KB\n"
     ]
    }
   ],
   "source": [
    "data.info()"
   ]
  },
  {
   "cell_type": "code",
   "execution_count": 7,
   "metadata": {
    "colab": {
     "base_uri": "https://localhost:8080/",
     "height": 317
    },
    "id": "ESwQQwunB0mb",
    "outputId": "8938782a-f462-4c3b-cd23-c0c5cce2ea0e"
   },
   "outputs": [
    {
     "data": {
      "text/html": [
       "<div>\n",
       "<style scoped>\n",
       "    .dataframe tbody tr th:only-of-type {\n",
       "        vertical-align: middle;\n",
       "    }\n",
       "\n",
       "    .dataframe tbody tr th {\n",
       "        vertical-align: top;\n",
       "    }\n",
       "\n",
       "    .dataframe thead th {\n",
       "        text-align: right;\n",
       "    }\n",
       "</style>\n",
       "<table border=\"1\" class=\"dataframe\">\n",
       "  <thead>\n",
       "    <tr style=\"text-align: right;\">\n",
       "      <th></th>\n",
       "      <th>sample_code_number</th>\n",
       "      <th>clump_thickness</th>\n",
       "      <th>uniformity_of_cell_size</th>\n",
       "      <th>uniformity_of_cell_shape</th>\n",
       "      <th>marginal_adhesion</th>\n",
       "      <th>single_epithelial_cell_size</th>\n",
       "      <th>bland_chromatin</th>\n",
       "      <th>normal_nucleoli</th>\n",
       "      <th>mitoses</th>\n",
       "      <th>class</th>\n",
       "    </tr>\n",
       "  </thead>\n",
       "  <tbody>\n",
       "    <tr>\n",
       "      <th>count</th>\n",
       "      <td>6.990000e+02</td>\n",
       "      <td>699.000000</td>\n",
       "      <td>699.000000</td>\n",
       "      <td>699.000000</td>\n",
       "      <td>699.000000</td>\n",
       "      <td>699.000000</td>\n",
       "      <td>699.000000</td>\n",
       "      <td>699.000000</td>\n",
       "      <td>699.000000</td>\n",
       "      <td>699.000000</td>\n",
       "    </tr>\n",
       "    <tr>\n",
       "      <th>mean</th>\n",
       "      <td>1.071704e+06</td>\n",
       "      <td>4.417740</td>\n",
       "      <td>3.134478</td>\n",
       "      <td>3.207439</td>\n",
       "      <td>2.806867</td>\n",
       "      <td>3.216023</td>\n",
       "      <td>3.437768</td>\n",
       "      <td>2.866953</td>\n",
       "      <td>1.589413</td>\n",
       "      <td>2.689557</td>\n",
       "    </tr>\n",
       "    <tr>\n",
       "      <th>std</th>\n",
       "      <td>6.170957e+05</td>\n",
       "      <td>2.815741</td>\n",
       "      <td>3.051459</td>\n",
       "      <td>2.971913</td>\n",
       "      <td>2.855379</td>\n",
       "      <td>2.214300</td>\n",
       "      <td>2.438364</td>\n",
       "      <td>3.053634</td>\n",
       "      <td>1.715078</td>\n",
       "      <td>0.951273</td>\n",
       "    </tr>\n",
       "    <tr>\n",
       "      <th>min</th>\n",
       "      <td>6.163400e+04</td>\n",
       "      <td>1.000000</td>\n",
       "      <td>1.000000</td>\n",
       "      <td>1.000000</td>\n",
       "      <td>1.000000</td>\n",
       "      <td>1.000000</td>\n",
       "      <td>1.000000</td>\n",
       "      <td>1.000000</td>\n",
       "      <td>1.000000</td>\n",
       "      <td>2.000000</td>\n",
       "    </tr>\n",
       "    <tr>\n",
       "      <th>25%</th>\n",
       "      <td>8.706885e+05</td>\n",
       "      <td>2.000000</td>\n",
       "      <td>1.000000</td>\n",
       "      <td>1.000000</td>\n",
       "      <td>1.000000</td>\n",
       "      <td>2.000000</td>\n",
       "      <td>2.000000</td>\n",
       "      <td>1.000000</td>\n",
       "      <td>1.000000</td>\n",
       "      <td>2.000000</td>\n",
       "    </tr>\n",
       "    <tr>\n",
       "      <th>50%</th>\n",
       "      <td>1.171710e+06</td>\n",
       "      <td>4.000000</td>\n",
       "      <td>1.000000</td>\n",
       "      <td>1.000000</td>\n",
       "      <td>1.000000</td>\n",
       "      <td>2.000000</td>\n",
       "      <td>3.000000</td>\n",
       "      <td>1.000000</td>\n",
       "      <td>1.000000</td>\n",
       "      <td>2.000000</td>\n",
       "    </tr>\n",
       "    <tr>\n",
       "      <th>75%</th>\n",
       "      <td>1.238298e+06</td>\n",
       "      <td>6.000000</td>\n",
       "      <td>5.000000</td>\n",
       "      <td>5.000000</td>\n",
       "      <td>4.000000</td>\n",
       "      <td>4.000000</td>\n",
       "      <td>5.000000</td>\n",
       "      <td>4.000000</td>\n",
       "      <td>1.000000</td>\n",
       "      <td>4.000000</td>\n",
       "    </tr>\n",
       "    <tr>\n",
       "      <th>max</th>\n",
       "      <td>1.345435e+07</td>\n",
       "      <td>10.000000</td>\n",
       "      <td>10.000000</td>\n",
       "      <td>10.000000</td>\n",
       "      <td>10.000000</td>\n",
       "      <td>10.000000</td>\n",
       "      <td>10.000000</td>\n",
       "      <td>10.000000</td>\n",
       "      <td>10.000000</td>\n",
       "      <td>4.000000</td>\n",
       "    </tr>\n",
       "  </tbody>\n",
       "</table>\n",
       "</div>"
      ],
      "text/plain": [
       "       sample_code_number  clump_thickness  uniformity_of_cell_size  \\\n",
       "count        6.990000e+02       699.000000               699.000000   \n",
       "mean         1.071704e+06         4.417740                 3.134478   \n",
       "std          6.170957e+05         2.815741                 3.051459   \n",
       "min          6.163400e+04         1.000000                 1.000000   \n",
       "25%          8.706885e+05         2.000000                 1.000000   \n",
       "50%          1.171710e+06         4.000000                 1.000000   \n",
       "75%          1.238298e+06         6.000000                 5.000000   \n",
       "max          1.345435e+07        10.000000                10.000000   \n",
       "\n",
       "       uniformity_of_cell_shape  marginal_adhesion  \\\n",
       "count                699.000000         699.000000   \n",
       "mean                   3.207439           2.806867   \n",
       "std                    2.971913           2.855379   \n",
       "min                    1.000000           1.000000   \n",
       "25%                    1.000000           1.000000   \n",
       "50%                    1.000000           1.000000   \n",
       "75%                    5.000000           4.000000   \n",
       "max                   10.000000          10.000000   \n",
       "\n",
       "       single_epithelial_cell_size  bland_chromatin  normal_nucleoli  \\\n",
       "count                   699.000000       699.000000       699.000000   \n",
       "mean                      3.216023         3.437768         2.866953   \n",
       "std                       2.214300         2.438364         3.053634   \n",
       "min                       1.000000         1.000000         1.000000   \n",
       "25%                       2.000000         2.000000         1.000000   \n",
       "50%                       2.000000         3.000000         1.000000   \n",
       "75%                       4.000000         5.000000         4.000000   \n",
       "max                      10.000000        10.000000        10.000000   \n",
       "\n",
       "          mitoses       class  \n",
       "count  699.000000  699.000000  \n",
       "mean     1.589413    2.689557  \n",
       "std      1.715078    0.951273  \n",
       "min      1.000000    2.000000  \n",
       "25%      1.000000    2.000000  \n",
       "50%      1.000000    2.000000  \n",
       "75%      1.000000    4.000000  \n",
       "max     10.000000    4.000000  "
      ]
     },
     "execution_count": 7,
     "metadata": {},
     "output_type": "execute_result"
    }
   ],
   "source": [
    "data.describe()"
   ]
  },
  {
   "cell_type": "markdown",
   "metadata": {
    "id": "opzQaE6z-XYY"
   },
   "source": [
    "*   Based from dataset info, cancer classes are divided into benign (noncancerous) and malignant (cancerous) acording to standfordhealthcare.org\n",
    "*   bare_nuclei has object data type object which won't be working well in machine learning algorithm, therefore we should change bare nuclei data type\n",
    "\n"
   ]
  },
  {
   "cell_type": "code",
   "execution_count": 8,
   "metadata": {
    "colab": {
     "base_uri": "https://localhost:8080/"
    },
    "id": "GDesrWvmFOGM",
    "outputId": "2437b638-ebcb-4a37-9d71-979286b571c0"
   },
   "outputs": [
    {
     "data": {
      "text/plain": [
       "1     402\n",
       "10    132\n",
       "5      30\n",
       "2      30\n",
       "3      28\n",
       "8      21\n",
       "4      19\n",
       "?      16\n",
       "9       9\n",
       "7       8\n",
       "6       4\n",
       "Name: bare_nuclei, dtype: int64"
      ]
     },
     "execution_count": 8,
     "metadata": {},
     "output_type": "execute_result"
    }
   ],
   "source": [
    "data['bare_nuclei'].value_counts()"
   ]
  },
  {
   "cell_type": "markdown",
   "metadata": {
    "id": "i52A4oOyGQrs"
   },
   "source": [
    "We can see that bare_nuclei actually has invalid value '?'\n",
    "\n",
    "For treating this, we will change the '?' value with majority value which is '1'\n",
    "\n",
    "And then, cast the bare_nuclei type into int64"
   ]
  },
  {
   "cell_type": "code",
   "execution_count": 9,
   "metadata": {
    "colab": {
     "base_uri": "https://localhost:8080/"
    },
    "id": "Cvmz2u2sFb5L",
    "outputId": "e13b9514-a474-49c7-b759-ec80d37117f1"
   },
   "outputs": [
    {
     "data": {
      "text/plain": [
       "1     418\n",
       "10    132\n",
       "5      30\n",
       "2      30\n",
       "3      28\n",
       "8      21\n",
       "4      19\n",
       "9       9\n",
       "7       8\n",
       "6       4\n",
       "Name: bare_nuclei, dtype: int64"
      ]
     },
     "execution_count": 9,
     "metadata": {},
     "output_type": "execute_result"
    }
   ],
   "source": [
    "data['bare_nuclei'].values[data['bare_nuclei'] == '?'] = '1'\n",
    "data['bare_nuclei'].value_counts()"
   ]
  },
  {
   "cell_type": "code",
   "execution_count": 10,
   "metadata": {
    "colab": {
     "base_uri": "https://localhost:8080/"
    },
    "id": "ip5Z8RwgJcpu",
    "outputId": "7eb7abc1-81a0-4d9f-ce1a-186d7c0b5620"
   },
   "outputs": [
    {
     "name": "stdout",
     "output_type": "stream",
     "text": [
      "<class 'pandas.core.frame.DataFrame'>\n",
      "RangeIndex: 699 entries, 0 to 698\n",
      "Data columns (total 11 columns):\n",
      " #   Column                       Non-Null Count  Dtype\n",
      "---  ------                       --------------  -----\n",
      " 0   sample_code_number           699 non-null    int64\n",
      " 1   clump_thickness              699 non-null    int64\n",
      " 2   uniformity_of_cell_size      699 non-null    int64\n",
      " 3   uniformity_of_cell_shape     699 non-null    int64\n",
      " 4   marginal_adhesion            699 non-null    int64\n",
      " 5   single_epithelial_cell_size  699 non-null    int64\n",
      " 6   bare_nuclei                  699 non-null    int64\n",
      " 7   bland_chromatin              699 non-null    int64\n",
      " 8   normal_nucleoli              699 non-null    int64\n",
      " 9   mitoses                      699 non-null    int64\n",
      " 10  class                        699 non-null    int64\n",
      "dtypes: int64(11)\n",
      "memory usage: 60.2 KB\n"
     ]
    }
   ],
   "source": [
    "data['bare_nuclei'] = data['bare_nuclei'].astype('int64')\n",
    "data.info()"
   ]
  },
  {
   "cell_type": "markdown",
   "metadata": {
    "id": "4A6R_DKaBV79"
   },
   "source": [
    "### Check for Missing Data"
   ]
  },
  {
   "cell_type": "code",
   "execution_count": 11,
   "metadata": {
    "colab": {
     "base_uri": "https://localhost:8080/"
    },
    "id": "5EHB9kNXvQGs",
    "outputId": "f74b1dbd-4567-49f3-a6bc-dd035e33e1bd"
   },
   "outputs": [
    {
     "data": {
      "text/plain": [
       "sample_code_number             0\n",
       "clump_thickness                0\n",
       "uniformity_of_cell_size        0\n",
       "uniformity_of_cell_shape       0\n",
       "marginal_adhesion              0\n",
       "single_epithelial_cell_size    0\n",
       "bare_nuclei                    0\n",
       "bland_chromatin                0\n",
       "normal_nucleoli                0\n",
       "mitoses                        0\n",
       "class                          0\n",
       "dtype: int64"
      ]
     },
     "execution_count": 11,
     "metadata": {},
     "output_type": "execute_result"
    }
   ],
   "source": [
    "data.isna().sum()"
   ]
  },
  {
   "cell_type": "markdown",
   "metadata": {
    "id": "39y0ZPa2C8tl"
   },
   "source": [
    "There's no missing data in our dataset"
   ]
  },
  {
   "cell_type": "markdown",
   "metadata": {
    "id": "d9wK20HtChJ7"
   },
   "source": [
    "### Check for Data Duplication"
   ]
  },
  {
   "cell_type": "code",
   "execution_count": 12,
   "metadata": {
    "colab": {
     "base_uri": "https://localhost:8080/"
    },
    "id": "GtZuF0BBCgrF",
    "outputId": "c71da556-c320-4ea3-cbf9-1faf783ce0a3"
   },
   "outputs": [
    {
     "data": {
      "text/plain": [
       "9"
      ]
     },
     "execution_count": 12,
     "metadata": {},
     "output_type": "execute_result"
    }
   ],
   "source": [
    "data.duplicated().sum()"
   ]
  },
  {
   "cell_type": "markdown",
   "metadata": {
    "id": "rfLcfvj3-Cak"
   },
   "source": [
    "There are 9 data duplication in our dataset\n",
    "\n",
    "Therefore, we should drop the data duplication"
   ]
  },
  {
   "cell_type": "code",
   "execution_count": 13,
   "metadata": {
    "id": "Ax1XpJ1HIIbG"
   },
   "outputs": [],
   "source": [
    "data.drop_duplicates(keep='first', inplace = True)"
   ]
  },
  {
   "cell_type": "code",
   "execution_count": 14,
   "metadata": {
    "colab": {
     "base_uri": "https://localhost:8080/"
    },
    "id": "NlEAy414KJCe",
    "outputId": "f27b9cec-c46b-48ad-abd8-c084f62db699"
   },
   "outputs": [
    {
     "data": {
      "text/plain": [
       "0"
      ]
     },
     "execution_count": 14,
     "metadata": {},
     "output_type": "execute_result"
    }
   ],
   "source": [
    "data.duplicated().sum()"
   ]
  },
  {
   "cell_type": "markdown",
   "metadata": {
    "id": "DhL2H00fHmJ9"
   },
   "source": [
    "### Checking Class Distribution"
   ]
  },
  {
   "cell_type": "code",
   "execution_count": 15,
   "metadata": {
    "colab": {
     "base_uri": "https://localhost:8080/",
     "height": 111
    },
    "id": "MeljaIoeuR_a",
    "outputId": "e1542bf8-8a74-4f3c-9072-49f2d0f49329"
   },
   "outputs": [
    {
     "data": {
      "text/html": [
       "<div>\n",
       "<style scoped>\n",
       "    .dataframe tbody tr th:only-of-type {\n",
       "        vertical-align: middle;\n",
       "    }\n",
       "\n",
       "    .dataframe tbody tr th {\n",
       "        vertical-align: top;\n",
       "    }\n",
       "\n",
       "    .dataframe thead th {\n",
       "        text-align: right;\n",
       "    }\n",
       "</style>\n",
       "<table border=\"1\" class=\"dataframe\">\n",
       "  <thead>\n",
       "    <tr style=\"text-align: right;\">\n",
       "      <th></th>\n",
       "      <th>index</th>\n",
       "      <th>class</th>\n",
       "    </tr>\n",
       "  </thead>\n",
       "  <tbody>\n",
       "    <tr>\n",
       "      <th>0</th>\n",
       "      <td>2</td>\n",
       "      <td>452</td>\n",
       "    </tr>\n",
       "    <tr>\n",
       "      <th>1</th>\n",
       "      <td>4</td>\n",
       "      <td>238</td>\n",
       "    </tr>\n",
       "  </tbody>\n",
       "</table>\n",
       "</div>"
      ],
      "text/plain": [
       "   index  class\n",
       "0      2    452\n",
       "1      4    238"
      ]
     },
     "execution_count": 15,
     "metadata": {},
     "output_type": "execute_result"
    }
   ],
   "source": [
    "sum = pd.DataFrame(data['class'].value_counts().reset_index())\n",
    "sum"
   ]
  },
  {
   "cell_type": "markdown",
   "metadata": {
    "id": "bKsivWNLMh_8"
   },
   "source": [
    "Index Class 2 represents Benign\n",
    "\n",
    "Index Class 4 represents Malignant"
   ]
  },
  {
   "cell_type": "code",
   "execution_count": 16,
   "metadata": {
    "colab": {
     "base_uri": "https://localhost:8080/",
     "height": 449
    },
    "id": "vuYVeErzuX23",
    "outputId": "ba3f0b01-d7a1-4ebf-9eab-95b67c021d01"
   },
   "outputs": [
    {
     "data": {
      "image/png": "[encoded data removed]",
      "text/plain": [
       "<Figure size 504x432 with 1 Axes>"
      ]
     },
     "metadata": {
      "needs_background": "light"
     },
     "output_type": "display_data"
    }
   ],
   "source": [
    "fig, ax = plt.subplots()\n",
    "sns.set(font_scale = 1.4)\n",
    "data['class'].value_counts().plot(kind='bar', figsize=(7, 6), rot = 0)\n",
    "plt.xlabel('Breast Cancer Type', labelpad=14)\n",
    "labels = [item.get_text() for item in ax.get_xticklabels()]\n",
    "labels = ['Benign', 'Malignant']\n",
    "ax.set_xticklabels(labels)\n",
    "plt.ylabel('Count', labelpad=14)\n",
    "plt.title('Breast Cancer Wisconsin Dataset', fontsize = 20, pad = 20)\n",
    "# plt.savefig('Wisconsin.png')\n",
    "plt.show()"
   ]
  },
  {
   "cell_type": "markdown",
   "metadata": {
    "id": "q6NDGu5yB1XD"
   },
   "source": [
    "Based from the visualization above we can notice that there's an imbalance amount of both cancer class"
   ]
  },
  {
   "cell_type": "markdown",
   "metadata": {
    "id": "eKfnKXA9MPGu"
   },
   "source": [
    "### Checking for Outliers"
   ]
  },
  {
   "cell_type": "code",
   "execution_count": 17,
   "metadata": {
    "colab": {
     "base_uri": "https://localhost:8080/",
     "height": 599
    },
    "id": "HdXf9XFfNxYu",
    "outputId": "5fa15d45-42c9-4657-991f-3739b815705a"
   },
   "outputs": [
    {
     "data": {
      "image/png": "[encoded data removed]",
      "text/plain": [
       "<Figure size 720x720 with 1 Axes>"
      ]
     },
     "metadata": {},
     "output_type": "display_data"
    }
   ],
   "source": [
    "data_outl = data.drop('sample_code_number', axis = 1)\n",
    "\n",
    "plt.figure(figsize=(10, 10))\n",
    "sns.boxplot(data = data_outl, orient = 'h');"
   ]
  },
  {
   "cell_type": "markdown",
   "metadata": {
    "id": "HkMhXigXVNHH"
   },
   "source": [
    "Based from visualization above, we can see that marginal_adhesion, single_epithelial_cell_size, bland_chromatin, and normal_nucleoli has some outliers"
   ]
  },
  {
   "cell_type": "code",
   "execution_count": 18,
   "metadata": {
    "colab": {
     "base_uri": "https://localhost:8080/"
    },
    "id": "DqLOPGf8OTSF",
    "outputId": "8ff1b4bb-aa03-499d-e8e4-3196b3411be4"
   },
   "outputs": [
    {
     "name": "stdout",
     "output_type": "stream",
     "text": [
      "Value counts of marginal_adhesion\n",
      " 1     400\n",
      "3      58\n",
      "2      56\n",
      "10     55\n",
      "4      33\n",
      "8      25\n",
      "5      23\n",
      "6      22\n",
      "7      13\n",
      "9       5\n",
      "Name: marginal_adhesion, dtype: int64\n",
      "\n",
      "Value counts of single_epithelial_cell_size\n",
      " 2     382\n",
      "3      71\n",
      "4      48\n",
      "1      45\n",
      "6      41\n",
      "5      39\n",
      "10     30\n",
      "8      20\n",
      "7      12\n",
      "9       2\n",
      "Name: single_epithelial_cell_size, dtype: int64\n",
      "\n",
      "Value counts of bland_chromatin\n",
      " 2     165\n",
      "3     160\n",
      "1     151\n",
      "7      71\n",
      "4      40\n",
      "5      34\n",
      "8      28\n",
      "10     20\n",
      "9      11\n",
      "6      10\n",
      "Name: bland_chromatin, dtype: int64\n",
      "\n",
      "Value counts of normal_nucleoli\n",
      " 1     436\n",
      "10     61\n",
      "3      42\n",
      "2      36\n",
      "8      24\n",
      "6      22\n",
      "5      19\n",
      "4      18\n",
      "7      16\n",
      "9      16\n",
      "Name: normal_nucleoli, dtype: int64\n"
     ]
    }
   ],
   "source": [
    "print(\"Value counts of marginal_adhesion\\n\", data_outl['marginal_adhesion'].value_counts())\n",
    "print(\"\\nValue counts of single_epithelial_cell_size\\n\", data_outl['single_epithelial_cell_size'].value_counts())\n",
    "print(\"\\nValue counts of bland_chromatin\\n\", data_outl['bland_chromatin'].value_counts())\n",
    "print(\"\\nValue counts of normal_nucleoli\\n\", data_outl['normal_nucleoli'].value_counts())\n"
   ]
  },
  {
   "cell_type": "markdown",
   "metadata": {
    "id": "v4oUdGyQaeCQ"
   },
   "source": [
    "Based on the value_counts analysis above, we will treat the outliers only on marginal_adhesion and single_epithelial_cell_size."
   ]
  },
  {
   "cell_type": "markdown",
   "metadata": {
    "id": "v1bS3o_5avJH"
   },
   "source": [
    "#### Outliers Handling using Log Transformation"
   ]
  },
  {
   "cell_type": "markdown",
   "metadata": {
    "id": "vMyx6D_ibOhI"
   },
   "source": [
    "We will perform log transformation method for treating outliers on marginal_adhesion and single_epithelial_cell_size considering the amount of our data. \n",
    "\n",
    "We will use log transform because it is not affected by outliers thus avoiding data loss."
   ]
  },
  {
   "cell_type": "code",
   "execution_count": 19,
   "metadata": {
    "colab": {
     "base_uri": "https://localhost:8080/",
     "height": 613
    },
    "id": "f57IL9RZWJni",
    "outputId": "601a0776-4269-4d2e-ad95-85f778cba70c"
   },
   "outputs": [
    {
     "data": {
      "image/png": "[encoded data removed]",
      "text/plain": [
       "<Figure size 432x288 with 1 Axes>"
      ]
     },
     "metadata": {},
     "output_type": "display_data"
    },
    {
     "data": {
      "image/png": "[encoded data removed]",
      "text/plain": [
       "<Figure size 432x288 with 1 Axes>"
      ]
     },
     "metadata": {},
     "output_type": "display_data"
    }
   ],
   "source": [
    "sns.boxplot(data_outl['marginal_adhesion'])\n",
    "plt.title(\"Box Plot of Marginal Adhesion before Log Transformation\")\n",
    "plt.show()\n",
    "\n",
    "# Performing Log Transformation\n",
    "data_outl['marginal_adhesion'] = np.log(data_outl['marginal_adhesion'])\n",
    "\n",
    "sns.boxplot(data_outl['marginal_adhesion'])\n",
    "plt.title(\"Box Plot of Marginal Adhesion after Log Transformation\")\n",
    "plt.show()"
   ]
  },
  {
   "cell_type": "code",
   "execution_count": 20,
   "metadata": {
    "colab": {
     "base_uri": "https://localhost:8080/",
     "height": 613
    },
    "id": "Plq8iWtzbzbc",
    "outputId": "cc2f136f-3488-4688-a57a-d5c3439ec973"
   },
   "outputs": [
    {
     "data": {
      "image/png": "[encoded data removed]",
      "text/plain": [
       "<Figure size 432x288 with 1 Axes>"
      ]
     },
     "metadata": {},
     "output_type": "display_data"
    },
    {
     "data": {
      "image/png": "[encoded data removed]",
      "text/plain": [
       "<Figure size 432x288 with 1 Axes>"
      ]
     },
     "metadata": {},
     "output_type": "display_data"
    }
   ],
   "source": [
    "sns.boxplot(data_outl['single_epithelial_cell_size'])\n",
    "plt.title(\"Box Plot of Single Epithelial Cell Size before Log Transformation\")\n",
    "plt.show()\n",
    "\n",
    "# Performing Log Transformation\n",
    "data_outl['single_epithelial_cell_size'] = np.log(data_outl['single_epithelial_cell_size'])\n",
    "\n",
    "sns.boxplot(data_outl['marginal_adhesion'])\n",
    "plt.title(\"Box Plot of Single Epithelial Cell Size after Log Transformation\")\n",
    "plt.show()"
   ]
  },
  {
   "cell_type": "markdown",
   "metadata": {
    "id": "-fPPoA3rZyNb"
   },
   "source": [
    "### Class Labeling"
   ]
  },
  {
   "cell_type": "code",
   "execution_count": 21,
   "metadata": {
    "colab": {
     "base_uri": "https://localhost:8080/",
     "height": 439
    },
    "id": "sWDn0pfVaFqa",
    "outputId": "3a834571-912b-44a4-ac76-93572b8469cc"
   },
   "outputs": [
    {
     "data": {
      "text/html": [
       "<div>\n",
       "<style scoped>\n",
       "    .dataframe tbody tr th:only-of-type {\n",
       "        vertical-align: middle;\n",
       "    }\n",
       "\n",
       "    .dataframe tbody tr th {\n",
       "        vertical-align: top;\n",
       "    }\n",
       "\n",
       "    .dataframe thead th {\n",
       "        text-align: right;\n",
       "    }\n",
       "</style>\n",
       "<table border=\"1\" class=\"dataframe\">\n",
       "  <thead>\n",
       "    <tr style=\"text-align: right;\">\n",
       "      <th></th>\n",
       "      <th>clump_thickness</th>\n",
       "      <th>uniformity_of_cell_size</th>\n",
       "      <th>uniformity_of_cell_shape</th>\n",
       "      <th>marginal_adhesion</th>\n",
       "      <th>single_epithelial_cell_size</th>\n",
       "      <th>bare_nuclei</th>\n",
       "      <th>bland_chromatin</th>\n",
       "      <th>normal_nucleoli</th>\n",
       "      <th>mitoses</th>\n",
       "      <th>class</th>\n",
       "    </tr>\n",
       "  </thead>\n",
       "  <tbody>\n",
       "    <tr>\n",
       "      <th>0</th>\n",
       "      <td>5</td>\n",
       "      <td>1</td>\n",
       "      <td>1</td>\n",
       "      <td>0.000000</td>\n",
       "      <td>0.693147</td>\n",
       "      <td>1</td>\n",
       "      <td>3</td>\n",
       "      <td>1</td>\n",
       "      <td>1</td>\n",
       "      <td>2</td>\n",
       "    </tr>\n",
       "    <tr>\n",
       "      <th>1</th>\n",
       "      <td>5</td>\n",
       "      <td>4</td>\n",
       "      <td>4</td>\n",
       "      <td>1.609438</td>\n",
       "      <td>1.945910</td>\n",
       "      <td>10</td>\n",
       "      <td>3</td>\n",
       "      <td>2</td>\n",
       "      <td>1</td>\n",
       "      <td>2</td>\n",
       "    </tr>\n",
       "    <tr>\n",
       "      <th>2</th>\n",
       "      <td>3</td>\n",
       "      <td>1</td>\n",
       "      <td>1</td>\n",
       "      <td>0.000000</td>\n",
       "      <td>0.693147</td>\n",
       "      <td>2</td>\n",
       "      <td>3</td>\n",
       "      <td>1</td>\n",
       "      <td>1</td>\n",
       "      <td>2</td>\n",
       "    </tr>\n",
       "    <tr>\n",
       "      <th>3</th>\n",
       "      <td>6</td>\n",
       "      <td>8</td>\n",
       "      <td>8</td>\n",
       "      <td>0.000000</td>\n",
       "      <td>1.098612</td>\n",
       "      <td>4</td>\n",
       "      <td>3</td>\n",
       "      <td>7</td>\n",
       "      <td>1</td>\n",
       "      <td>2</td>\n",
       "    </tr>\n",
       "    <tr>\n",
       "      <th>4</th>\n",
       "      <td>4</td>\n",
       "      <td>1</td>\n",
       "      <td>1</td>\n",
       "      <td>1.098612</td>\n",
       "      <td>0.693147</td>\n",
       "      <td>1</td>\n",
       "      <td>3</td>\n",
       "      <td>1</td>\n",
       "      <td>1</td>\n",
       "      <td>2</td>\n",
       "    </tr>\n",
       "    <tr>\n",
       "      <th>...</th>\n",
       "      <td>...</td>\n",
       "      <td>...</td>\n",
       "      <td>...</td>\n",
       "      <td>...</td>\n",
       "      <td>...</td>\n",
       "      <td>...</td>\n",
       "      <td>...</td>\n",
       "      <td>...</td>\n",
       "      <td>...</td>\n",
       "      <td>...</td>\n",
       "    </tr>\n",
       "    <tr>\n",
       "      <th>694</th>\n",
       "      <td>3</td>\n",
       "      <td>1</td>\n",
       "      <td>1</td>\n",
       "      <td>0.000000</td>\n",
       "      <td>1.098612</td>\n",
       "      <td>2</td>\n",
       "      <td>1</td>\n",
       "      <td>1</td>\n",
       "      <td>1</td>\n",
       "      <td>2</td>\n",
       "    </tr>\n",
       "    <tr>\n",
       "      <th>695</th>\n",
       "      <td>2</td>\n",
       "      <td>1</td>\n",
       "      <td>1</td>\n",
       "      <td>0.000000</td>\n",
       "      <td>0.693147</td>\n",
       "      <td>1</td>\n",
       "      <td>1</td>\n",
       "      <td>1</td>\n",
       "      <td>1</td>\n",
       "      <td>2</td>\n",
       "    </tr>\n",
       "    <tr>\n",
       "      <th>696</th>\n",
       "      <td>5</td>\n",
       "      <td>10</td>\n",
       "      <td>10</td>\n",
       "      <td>1.098612</td>\n",
       "      <td>1.945910</td>\n",
       "      <td>3</td>\n",
       "      <td>8</td>\n",
       "      <td>10</td>\n",
       "      <td>2</td>\n",
       "      <td>4</td>\n",
       "    </tr>\n",
       "    <tr>\n",
       "      <th>697</th>\n",
       "      <td>4</td>\n",
       "      <td>8</td>\n",
       "      <td>6</td>\n",
       "      <td>1.386294</td>\n",
       "      <td>1.098612</td>\n",
       "      <td>4</td>\n",
       "      <td>10</td>\n",
       "      <td>6</td>\n",
       "      <td>1</td>\n",
       "      <td>4</td>\n",
       "    </tr>\n",
       "    <tr>\n",
       "      <th>698</th>\n",
       "      <td>4</td>\n",
       "      <td>8</td>\n",
       "      <td>8</td>\n",
       "      <td>1.609438</td>\n",
       "      <td>1.386294</td>\n",
       "      <td>5</td>\n",
       "      <td>10</td>\n",
       "      <td>4</td>\n",
       "      <td>1</td>\n",
       "      <td>4</td>\n",
       "    </tr>\n",
       "  </tbody>\n",
       "</table>\n",
       "<p>690 rows × 10 columns</p>\n",
       "</div>"
      ],
      "text/plain": [
       "     clump_thickness  uniformity_of_cell_size  uniformity_of_cell_shape  \\\n",
       "0                  5                        1                         1   \n",
       "1                  5                        4                         4   \n",
       "2                  3                        1                         1   \n",
       "3                  6                        8                         8   \n",
       "4                  4                        1                         1   \n",
       "..               ...                      ...                       ...   \n",
       "694                3                        1                         1   \n",
       "695                2                        1                         1   \n",
       "696                5                       10                        10   \n",
       "697                4                        8                         6   \n",
       "698                4                        8                         8   \n",
       "\n",
       "     marginal_adhesion  single_epithelial_cell_size  bare_nuclei  \\\n",
       "0             0.000000                     0.693147            1   \n",
       "1             1.609438                     1.945910           10   \n",
       "2             0.000000                     0.693147            2   \n",
       "3             0.000000                     1.098612            4   \n",
       "4             1.098612                     0.693147            1   \n",
       "..                 ...                          ...          ...   \n",
       "694           0.000000                     1.098612            2   \n",
       "695           0.000000                     0.693147            1   \n",
       "696           1.098612                     1.945910            3   \n",
       "697           1.386294                     1.098612            4   \n",
       "698           1.609438                     1.386294            5   \n",
       "\n",
       "     bland_chromatin  normal_nucleoli  mitoses  class  \n",
       "0                  3                1        1      2  \n",
       "1                  3                2        1      2  \n",
       "2                  3                1        1      2  \n",
       "3                  3                7        1      2  \n",
       "4                  3                1        1      2  \n",
       "..               ...              ...      ...    ...  \n",
       "694                1                1        1      2  \n",
       "695                1                1        1      2  \n",
       "696                8               10        2      4  \n",
       "697               10                6        1      4  \n",
       "698               10                4        1      4  \n",
       "\n",
       "[690 rows x 10 columns]"
      ]
     },
     "execution_count": 21,
     "metadata": {},
     "output_type": "execute_result"
    }
   ],
   "source": [
    "data_outl"
   ]
  },
  {
   "cell_type": "markdown",
   "metadata": {
    "id": "RjLgDS8bbHjG"
   },
   "source": [
    "### Label Encoding"
   ]
  },
  {
   "cell_type": "code",
   "execution_count": 22,
   "metadata": {
    "id": "170MQMClaXFi"
   },
   "outputs": [],
   "source": [
    "def cancer_class(num):\n",
    "  if num == 2:\n",
    "    return 'Benign'\n",
    "  elif num == 4:\n",
    "    return 'Malignant'"
   ]
  },
  {
   "cell_type": "code",
   "execution_count": 23,
   "metadata": {
    "colab": {
     "base_uri": "https://localhost:8080/",
     "height": 162
    },
    "id": "DKBUD_EpaGvd",
    "outputId": "eb20fc0c-7051-4a24-c5c3-2518da8dbaaa"
   },
   "outputs": [
    {
     "data": {
      "text/html": [
       "<div>\n",
       "<style scoped>\n",
       "    .dataframe tbody tr th:only-of-type {\n",
       "        vertical-align: middle;\n",
       "    }\n",
       "\n",
       "    .dataframe tbody tr th {\n",
       "        vertical-align: top;\n",
       "    }\n",
       "\n",
       "    .dataframe thead th {\n",
       "        text-align: right;\n",
       "    }\n",
       "</style>\n",
       "<table border=\"1\" class=\"dataframe\">\n",
       "  <thead>\n",
       "    <tr style=\"text-align: right;\">\n",
       "      <th></th>\n",
       "      <th>clump_thickness</th>\n",
       "      <th>uniformity_of_cell_size</th>\n",
       "      <th>uniformity_of_cell_shape</th>\n",
       "      <th>marginal_adhesion</th>\n",
       "      <th>single_epithelial_cell_size</th>\n",
       "      <th>bare_nuclei</th>\n",
       "      <th>bland_chromatin</th>\n",
       "      <th>normal_nucleoli</th>\n",
       "      <th>mitoses</th>\n",
       "      <th>class</th>\n",
       "    </tr>\n",
       "  </thead>\n",
       "  <tbody>\n",
       "    <tr>\n",
       "      <th>0</th>\n",
       "      <td>5</td>\n",
       "      <td>1</td>\n",
       "      <td>1</td>\n",
       "      <td>0.000000</td>\n",
       "      <td>0.693147</td>\n",
       "      <td>1</td>\n",
       "      <td>3</td>\n",
       "      <td>1</td>\n",
       "      <td>1</td>\n",
       "      <td>2</td>\n",
       "    </tr>\n",
       "    <tr>\n",
       "      <th>1</th>\n",
       "      <td>5</td>\n",
       "      <td>4</td>\n",
       "      <td>4</td>\n",
       "      <td>1.609438</td>\n",
       "      <td>1.945910</td>\n",
       "      <td>10</td>\n",
       "      <td>3</td>\n",
       "      <td>2</td>\n",
       "      <td>1</td>\n",
       "      <td>2</td>\n",
       "    </tr>\n",
       "    <tr>\n",
       "      <th>2</th>\n",
       "      <td>3</td>\n",
       "      <td>1</td>\n",
       "      <td>1</td>\n",
       "      <td>0.000000</td>\n",
       "      <td>0.693147</td>\n",
       "      <td>2</td>\n",
       "      <td>3</td>\n",
       "      <td>1</td>\n",
       "      <td>1</td>\n",
       "      <td>2</td>\n",
       "    </tr>\n",
       "  </tbody>\n",
       "</table>\n",
       "</div>"
      ],
      "text/plain": [
       "   clump_thickness  uniformity_of_cell_size  uniformity_of_cell_shape  \\\n",
       "0                5                        1                         1   \n",
       "1                5                        4                         4   \n",
       "2                3                        1                         1   \n",
       "\n",
       "   marginal_adhesion  single_epithelial_cell_size  bare_nuclei  \\\n",
       "0           0.000000                     0.693147            1   \n",
       "1           1.609438                     1.945910           10   \n",
       "2           0.000000                     0.693147            2   \n",
       "\n",
       "   bland_chromatin  normal_nucleoli  mitoses  class  \n",
       "0                3                1        1      2  \n",
       "1                3                2        1      2  \n",
       "2                3                1        1      2  "
      ]
     },
     "execution_count": 23,
     "metadata": {},
     "output_type": "execute_result"
    }
   ],
   "source": [
    "data_class = data_outl.copy()\n",
    "data_class.head(3)"
   ]
  },
  {
   "cell_type": "code",
   "execution_count": 24,
   "metadata": {
    "id": "BjE3FG7CbAOj"
   },
   "outputs": [],
   "source": [
    "label_encoder = preprocessing.LabelEncoder()"
   ]
  },
  {
   "cell_type": "code",
   "execution_count": 25,
   "metadata": {
    "colab": {
     "base_uri": "https://localhost:8080/"
    },
    "id": "eJJAhc0jbY_z",
    "outputId": "cd922c94-2056-456a-f601-82d74c4155ab"
   },
   "outputs": [
    {
     "data": {
      "text/plain": [
       "array([0, 1], dtype=int64)"
      ]
     },
     "execution_count": 25,
     "metadata": {},
     "output_type": "execute_result"
    }
   ],
   "source": [
    "# Encode labels in column 'cancer class'\n",
    "data_class['class'] = label_encoder.fit_transform(data_class['class'])\n",
    "data_class['class'].unique()"
   ]
  },
  {
   "cell_type": "code",
   "execution_count": 26,
   "metadata": {
    "colab": {
     "base_uri": "https://localhost:8080/",
     "height": 162
    },
    "id": "zbCX1sA7eWxF",
    "outputId": "752ef52f-9e60-4f81-8534-1bde16d751db"
   },
   "outputs": [
    {
     "data": {
      "text/html": [
       "<div>\n",
       "<style scoped>\n",
       "    .dataframe tbody tr th:only-of-type {\n",
       "        vertical-align: middle;\n",
       "    }\n",
       "\n",
       "    .dataframe tbody tr th {\n",
       "        vertical-align: top;\n",
       "    }\n",
       "\n",
       "    .dataframe thead th {\n",
       "        text-align: right;\n",
       "    }\n",
       "</style>\n",
       "<table border=\"1\" class=\"dataframe\">\n",
       "  <thead>\n",
       "    <tr style=\"text-align: right;\">\n",
       "      <th></th>\n",
       "      <th>clump_thickness</th>\n",
       "      <th>uniformity_of_cell_size</th>\n",
       "      <th>uniformity_of_cell_shape</th>\n",
       "      <th>marginal_adhesion</th>\n",
       "      <th>single_epithelial_cell_size</th>\n",
       "      <th>bare_nuclei</th>\n",
       "      <th>bland_chromatin</th>\n",
       "      <th>normal_nucleoli</th>\n",
       "      <th>mitoses</th>\n",
       "      <th>class</th>\n",
       "    </tr>\n",
       "  </thead>\n",
       "  <tbody>\n",
       "    <tr>\n",
       "      <th>0</th>\n",
       "      <td>5</td>\n",
       "      <td>1</td>\n",
       "      <td>1</td>\n",
       "      <td>0.000000</td>\n",
       "      <td>0.693147</td>\n",
       "      <td>1</td>\n",
       "      <td>3</td>\n",
       "      <td>1</td>\n",
       "      <td>1</td>\n",
       "      <td>0</td>\n",
       "    </tr>\n",
       "    <tr>\n",
       "      <th>1</th>\n",
       "      <td>5</td>\n",
       "      <td>4</td>\n",
       "      <td>4</td>\n",
       "      <td>1.609438</td>\n",
       "      <td>1.945910</td>\n",
       "      <td>10</td>\n",
       "      <td>3</td>\n",
       "      <td>2</td>\n",
       "      <td>1</td>\n",
       "      <td>0</td>\n",
       "    </tr>\n",
       "    <tr>\n",
       "      <th>2</th>\n",
       "      <td>3</td>\n",
       "      <td>1</td>\n",
       "      <td>1</td>\n",
       "      <td>0.000000</td>\n",
       "      <td>0.693147</td>\n",
       "      <td>2</td>\n",
       "      <td>3</td>\n",
       "      <td>1</td>\n",
       "      <td>1</td>\n",
       "      <td>0</td>\n",
       "    </tr>\n",
       "  </tbody>\n",
       "</table>\n",
       "</div>"
      ],
      "text/plain": [
       "   clump_thickness  uniformity_of_cell_size  uniformity_of_cell_shape  \\\n",
       "0                5                        1                         1   \n",
       "1                5                        4                         4   \n",
       "2                3                        1                         1   \n",
       "\n",
       "   marginal_adhesion  single_epithelial_cell_size  bare_nuclei  \\\n",
       "0           0.000000                     0.693147            1   \n",
       "1           1.609438                     1.945910           10   \n",
       "2           0.000000                     0.693147            2   \n",
       "\n",
       "   bland_chromatin  normal_nucleoli  mitoses  class  \n",
       "0                3                1        1      0  \n",
       "1                3                2        1      0  \n",
       "2                3                1        1      0  "
      ]
     },
     "execution_count": 26,
     "metadata": {},
     "output_type": "execute_result"
    }
   ],
   "source": [
    "data_class.head(3)"
   ]
  },
  {
   "cell_type": "markdown",
   "metadata": {
    "id": "9GMdiD2felS_"
   },
   "source": [
    "**0 = Benign**\n",
    "\n",
    "**1 = Malignant** "
   ]
  },
  {
   "cell_type": "code",
   "execution_count": 27,
   "metadata": {
    "colab": {
     "base_uri": "https://localhost:8080/"
    },
    "id": "A5osTt4HelA3",
    "outputId": "3aa86383-ffb5-4878-d33f-3998504f9549"
   },
   "outputs": [
    {
     "name": "stdout",
     "output_type": "stream",
     "text": [
      "<class 'pandas.core.frame.DataFrame'>\n",
      "Int64Index: 690 entries, 0 to 698\n",
      "Data columns (total 10 columns):\n",
      " #   Column                       Non-Null Count  Dtype  \n",
      "---  ------                       --------------  -----  \n",
      " 0   clump_thickness              690 non-null    int64  \n",
      " 1   uniformity_of_cell_size      690 non-null    int64  \n",
      " 2   uniformity_of_cell_shape     690 non-null    int64  \n",
      " 3   marginal_adhesion            690 non-null    float64\n",
      " 4   single_epithelial_cell_size  690 non-null    float64\n",
      " 5   bare_nuclei                  690 non-null    int64  \n",
      " 6   bland_chromatin              690 non-null    int64  \n",
      " 7   normal_nucleoli              690 non-null    int64  \n",
      " 8   mitoses                      690 non-null    int64  \n",
      " 9   class                        690 non-null    int64  \n",
      "dtypes: float64(2), int64(8)\n",
      "memory usage: 59.3 KB\n"
     ]
    }
   ],
   "source": [
    "data_class.info()"
   ]
  },
  {
   "cell_type": "markdown",
   "metadata": {
    "id": "IAV19k72h3Vm"
   },
   "source": [
    "## First Research Scenario"
   ]
  },
  {
   "cell_type": "markdown",
   "metadata": {
    "id": "OYjVgUIme2P2"
   },
   "source": [
    "### Feature Standardization (Feature Scaling)"
   ]
  },
  {
   "cell_type": "code",
   "execution_count": 28,
   "metadata": {
    "colab": {
     "base_uri": "https://localhost:8080/"
    },
    "id": "XZq_IVDyecGA",
    "outputId": "86c0cf68-a575-4e9c-8c18-227e9841e831"
   },
   "outputs": [
    {
     "data": {
      "text/plain": [
       "StandardScaler()"
      ]
     },
     "execution_count": 28,
     "metadata": {},
     "output_type": "execute_result"
    }
   ],
   "source": [
    "scaler = StandardScaler()\n",
    "scaler.fit(data_class.drop('class', axis = 1))"
   ]
  },
  {
   "cell_type": "code",
   "execution_count": 29,
   "metadata": {
    "colab": {
     "base_uri": "https://localhost:8080/",
     "height": 162
    },
    "id": "C4isnHIfeaJG",
    "outputId": "f19307f8-29c1-4ca5-b304-59180c488306"
   },
   "outputs": [
    {
     "data": {
      "text/html": [
       "<div>\n",
       "<style scoped>\n",
       "    .dataframe tbody tr th:only-of-type {\n",
       "        vertical-align: middle;\n",
       "    }\n",
       "\n",
       "    .dataframe tbody tr th {\n",
       "        vertical-align: top;\n",
       "    }\n",
       "\n",
       "    .dataframe thead th {\n",
       "        text-align: right;\n",
       "    }\n",
       "</style>\n",
       "<table border=\"1\" class=\"dataframe\">\n",
       "  <thead>\n",
       "    <tr style=\"text-align: right;\">\n",
       "      <th></th>\n",
       "      <th>clump_thickness</th>\n",
       "      <th>uniformity_of_cell_size</th>\n",
       "      <th>uniformity_of_cell_shape</th>\n",
       "      <th>marginal_adhesion</th>\n",
       "      <th>single_epithelial_cell_size</th>\n",
       "      <th>bare_nuclei</th>\n",
       "      <th>bland_chromatin</th>\n",
       "      <th>normal_nucleoli</th>\n",
       "      <th>mitoses</th>\n",
       "    </tr>\n",
       "  </thead>\n",
       "  <tbody>\n",
       "    <tr>\n",
       "      <th>0</th>\n",
       "      <td>0.202823</td>\n",
       "      <td>-0.701698</td>\n",
       "      <td>-0.74504</td>\n",
       "      <td>-0.761144</td>\n",
       "      <td>-0.531871</td>\n",
       "      <td>-0.686858</td>\n",
       "      <td>-0.178616</td>\n",
       "      <td>-0.615082</td>\n",
       "      <td>-0.344869</td>\n",
       "    </tr>\n",
       "    <tr>\n",
       "      <th>1</th>\n",
       "      <td>0.202823</td>\n",
       "      <td>0.285065</td>\n",
       "      <td>0.26892</td>\n",
       "      <td>1.161516</td>\n",
       "      <td>1.703235</td>\n",
       "      <td>1.803153</td>\n",
       "      <td>-0.178616</td>\n",
       "      <td>-0.288866</td>\n",
       "      <td>-0.344869</td>\n",
       "    </tr>\n",
       "    <tr>\n",
       "      <th>2</th>\n",
       "      <td>-0.507572</td>\n",
       "      <td>-0.701698</td>\n",
       "      <td>-0.74504</td>\n",
       "      <td>-0.761144</td>\n",
       "      <td>-0.531871</td>\n",
       "      <td>-0.410190</td>\n",
       "      <td>-0.178616</td>\n",
       "      <td>-0.615082</td>\n",
       "      <td>-0.344869</td>\n",
       "    </tr>\n",
       "  </tbody>\n",
       "</table>\n",
       "</div>"
      ],
      "text/plain": [
       "   clump_thickness  uniformity_of_cell_size  uniformity_of_cell_shape  \\\n",
       "0         0.202823                -0.701698                  -0.74504   \n",
       "1         0.202823                 0.285065                   0.26892   \n",
       "2        -0.507572                -0.701698                  -0.74504   \n",
       "\n",
       "   marginal_adhesion  single_epithelial_cell_size  bare_nuclei  \\\n",
       "0          -0.761144                    -0.531871    -0.686858   \n",
       "1           1.161516                     1.703235     1.803153   \n",
       "2          -0.761144                    -0.531871    -0.410190   \n",
       "\n",
       "   bland_chromatin  normal_nucleoli   mitoses  \n",
       "0        -0.178616        -0.615082 -0.344869  \n",
       "1        -0.178616        -0.288866 -0.344869  \n",
       "2        -0.178616        -0.615082 -0.344869  "
      ]
     },
     "execution_count": 29,
     "metadata": {},
     "output_type": "execute_result"
    }
   ],
   "source": [
    "data_fe = data_class.drop('class', axis = 1)\n",
    "scaled_features = scaler.transform(data_fe)\n",
    "columns = ['clump_thickness', 'uniformity_of_cell_size', 'uniformity_of_cell_shape',\n",
    "           'marginal_adhesion', 'single_epithelial_cell_size', 'bare_nuclei', \n",
    "           'bland_chromatin', 'normal_nucleoli', 'mitoses']\n",
    "\n",
    "data_fs = pd.DataFrame(scaled_features, columns = columns)\n",
    "data_fs.head(3)"
   ]
  },
  {
   "cell_type": "markdown",
   "metadata": {
    "id": "5okcvgkvhvAa"
   },
   "source": [
    "### Copying the Data"
   ]
  },
  {
   "cell_type": "code",
   "execution_count": 30,
   "metadata": {
    "id": "qbAbeZjKfggZ"
   },
   "outputs": [],
   "source": [
    "data_first = data_fs.copy()\n",
    "data_second = data_fs.copy()"
   ]
  },
  {
   "cell_type": "markdown",
   "metadata": {
    "id": "5a6Ni0qsiV3w"
   },
   "source": [
    "### Feature Selection"
   ]
  },
  {
   "cell_type": "code",
   "execution_count": 31,
   "metadata": {
    "id": "GH7FE0VRh3Hp"
   },
   "outputs": [],
   "source": [
    "X = data_first\n",
    "y = data_class['class']\n",
    "\n",
    "scoring = {'accuracy' : make_scorer(accuracy_score),\n",
    "           'precision' : make_scorer(precision_score),\n",
    "           'recall' : make_scorer(recall_score),\n",
    "           'f1_score' : make_scorer(f1_score)}\n",
    "           \n",
    "kfold = model_selection.KFold(n_splits = 10, shuffle = True)"
   ]
  },
  {
   "cell_type": "markdown",
   "metadata": {
    "id": "XHS7A18dyJ4H"
   },
   "source": [
    "### Breast Cancer Prediction using Random Forest Classifier with 10 K-folds CV"
   ]
  },
  {
   "cell_type": "code",
   "execution_count": 32,
   "metadata": {
    "id": "NK9gKyDyyN7j"
   },
   "outputs": [],
   "source": [
    "rand_forest = RandomForestClassifier(n_estimators = 40, random_state = 0)\n",
    "\n",
    "randf_results = sklearn.model_selection.cross_validate(estimator = rand_forest,\n",
    "                                                       X = X, \n",
    "                                                       y = y,\n",
    "                                                       cv = kfold,\n",
    "                                                       scoring = scoring)"
   ]
  },
  {
   "cell_type": "code",
   "execution_count": 33,
   "metadata": {
    "colab": {
     "base_uri": "https://localhost:8080/"
    },
    "id": "qe1nxoR79LnH",
    "outputId": "cdb34807-2eb4-4b1a-e02e-55a8f3f12127"
   },
   "outputs": [
    {
     "name": "stdout",
     "output_type": "stream",
     "text": [
      "Random Forest Performance Evaluation (K-Fold Cross Val)\n",
      "\n",
      "Accuracy Score   : 0.965\n",
      "Precision Score  : 0.942\n",
      "Recall Score     : 0.958\n",
      "F1-Measure Score : 0.949\n"
     ]
    }
   ],
   "source": [
    "randf_accuracy = round((np.mean(randf_results.get('test_accuracy'))), 3)\n",
    "randf_precision = round((np.mean(randf_results.get('test_precision'))), 3)\n",
    "randf_recall = round((np.mean(randf_results.get('test_recall'))), 3)\n",
    "randf_f1score = round((np.mean(randf_results.get('test_f1_score'))), 3)\n",
    "\n",
    "print('Random Forest Performance Evaluation (K-Fold Cross Val)\\n')\n",
    "print(f'Accuracy Score   : {randf_accuracy}')\n",
    "print(f'Precision Score  : {randf_precision}')\n",
    "print(f'Recall Score     : {randf_recall}')\n",
    "print(f'F1-Measure Score : {randf_f1score}')"
   ]
  },
  {
   "cell_type": "code",
   "execution_count": 34,
   "metadata": {},
   "outputs": [
    {
     "data": {
      "text/plain": [
       "['fit_time',\n",
       " 'score_time',\n",
       " 'test_accuracy',\n",
       " 'test_f1_score',\n",
       " 'test_precision',\n",
       " 'test_recall']"
      ]
     },
     "execution_count": 34,
     "metadata": {},
     "output_type": "execute_result"
    }
   ],
   "source": [
    "sorted(randf_results.keys())"
   ]
  },
  {
   "cell_type": "markdown",
   "metadata": {
    "id": "khgRMlHwDSxU"
   },
   "source": [
    "### Breast Cancer Prediction using Gaussian Naive Bayes Classifier with 10 K-folds CV"
   ]
  },
  {
   "cell_type": "code",
   "execution_count": 35,
   "metadata": {
    "id": "ze7CKZrzDSKg"
   },
   "outputs": [],
   "source": [
    "gaussianNB = GaussianNB()\n",
    "\n",
    "gnb_results = sklearn.model_selection.cross_validate(estimator = gaussianNB,\n",
    "                                                     X = X, \n",
    "                                                     y = y,\n",
    "                                                     cv = kfold,\n",
    "                                                     scoring = scoring)"
   ]
  },
  {
   "cell_type": "code",
   "execution_count": 36,
   "metadata": {
    "colab": {
     "base_uri": "https://localhost:8080/"
    },
    "id": "rfkUDv33D8gU",
    "outputId": "faf0ffa3-7beb-46a5-f2f5-76f922d879a2"
   },
   "outputs": [
    {
     "name": "stdout",
     "output_type": "stream",
     "text": [
      "Gaussian Naive Bayes Performance Evaluation (K-Fold Cross Val)\n",
      "\n",
      "Accuracy Score   : 0.958\n",
      "Precision Score  : 0.913\n",
      "Recall Score     : 0.97\n",
      "F1-Measure Score : 0.939\n"
     ]
    }
   ],
   "source": [
    "gaussianNB_accuracy = round((np.mean(gnb_results.get('test_accuracy'))), 3)\n",
    "gaussianNB_precision = round((np.mean(gnb_results.get('test_precision'))), 3)\n",
    "gaussianNB_recall = round((np.mean(gnb_results.get('test_recall'))), 3)\n",
    "gaussianNB_f1score = round((np.mean(gnb_results.get('test_f1_score'))), 3)\n",
    "\n",
    "print('Gaussian Naive Bayes Performance Evaluation (K-Fold Cross Val)\\n')\n",
    "print(f'Accuracy Score   : {gaussianNB_accuracy}')\n",
    "print(f'Precision Score  : {gaussianNB_precision}')\n",
    "print(f'Recall Score     : {gaussianNB_recall}')\n",
    "print(f'F1-Measure Score : {gaussianNB_f1score}')"
   ]
  },
  {
   "cell_type": "markdown",
   "metadata": {
    "id": "bt2MBywupwPr"
   },
   "source": [
    "### First Research Scenario Conclusion"
   ]
  },
  {
   "cell_type": "markdown",
   "metadata": {
    "id": "hN7ZfC43qAxL"
   },
   "source": [
    "Based from first research scenario result, we can put the result into Tabel 3, which shown by figure below."
   ]
  },
  {
   "cell_type": "markdown",
   "metadata": {
    "id": "wW18CYgl6YGu"
   },
   "source": [
    "![image.png](data:image/png;base64,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)"
   ]
  },
  {
   "cell_type": "markdown",
   "metadata": {
    "id": "kO3WvC_4GgIs"
   },
   "source": [
    "Overall, Random Forest algorithm perform slightly better on both metrics evaluation using accuracy and F-measure compared to Gaussian Naive Bayes on the first research scenario."
   ]
  },
  {
   "cell_type": "markdown",
   "metadata": {
    "id": "tQ-MYXpoHZEh"
   },
   "source": [
    "## Second Research Scenario"
   ]
  },
  {
   "cell_type": "code",
   "execution_count": 37,
   "metadata": {
    "colab": {
     "base_uri": "https://localhost:8080/",
     "height": 162
    },
    "id": "YyMQCeg1HYpu",
    "outputId": "db9a73c8-773c-4527-8320-d723193567f7"
   },
   "outputs": [
    {
     "data": {
      "text/html": [
       "<div>\n",
       "<style scoped>\n",
       "    .dataframe tbody tr th:only-of-type {\n",
       "        vertical-align: middle;\n",
       "    }\n",
       "\n",
       "    .dataframe tbody tr th {\n",
       "        vertical-align: top;\n",
       "    }\n",
       "\n",
       "    .dataframe thead th {\n",
       "        text-align: right;\n",
       "    }\n",
       "</style>\n",
       "<table border=\"1\" class=\"dataframe\">\n",
       "  <thead>\n",
       "    <tr style=\"text-align: right;\">\n",
       "      <th></th>\n",
       "      <th>clump_thickness</th>\n",
       "      <th>uniformity_of_cell_size</th>\n",
       "      <th>uniformity_of_cell_shape</th>\n",
       "      <th>marginal_adhesion</th>\n",
       "      <th>single_epithelial_cell_size</th>\n",
       "      <th>bare_nuclei</th>\n",
       "      <th>bland_chromatin</th>\n",
       "      <th>normal_nucleoli</th>\n",
       "      <th>mitoses</th>\n",
       "    </tr>\n",
       "  </thead>\n",
       "  <tbody>\n",
       "    <tr>\n",
       "      <th>0</th>\n",
       "      <td>0.202823</td>\n",
       "      <td>-0.701698</td>\n",
       "      <td>-0.74504</td>\n",
       "      <td>-0.761144</td>\n",
       "      <td>-0.531871</td>\n",
       "      <td>-0.686858</td>\n",
       "      <td>-0.178616</td>\n",
       "      <td>-0.615082</td>\n",
       "      <td>-0.344869</td>\n",
       "    </tr>\n",
       "    <tr>\n",
       "      <th>1</th>\n",
       "      <td>0.202823</td>\n",
       "      <td>0.285065</td>\n",
       "      <td>0.26892</td>\n",
       "      <td>1.161516</td>\n",
       "      <td>1.703235</td>\n",
       "      <td>1.803153</td>\n",
       "      <td>-0.178616</td>\n",
       "      <td>-0.288866</td>\n",
       "      <td>-0.344869</td>\n",
       "    </tr>\n",
       "    <tr>\n",
       "      <th>2</th>\n",
       "      <td>-0.507572</td>\n",
       "      <td>-0.701698</td>\n",
       "      <td>-0.74504</td>\n",
       "      <td>-0.761144</td>\n",
       "      <td>-0.531871</td>\n",
       "      <td>-0.410190</td>\n",
       "      <td>-0.178616</td>\n",
       "      <td>-0.615082</td>\n",
       "      <td>-0.344869</td>\n",
       "    </tr>\n",
       "  </tbody>\n",
       "</table>\n",
       "</div>"
      ],
      "text/plain": [
       "   clump_thickness  uniformity_of_cell_size  uniformity_of_cell_shape  \\\n",
       "0         0.202823                -0.701698                  -0.74504   \n",
       "1         0.202823                 0.285065                   0.26892   \n",
       "2        -0.507572                -0.701698                  -0.74504   \n",
       "\n",
       "   marginal_adhesion  single_epithelial_cell_size  bare_nuclei  \\\n",
       "0          -0.761144                    -0.531871    -0.686858   \n",
       "1           1.161516                     1.703235     1.803153   \n",
       "2          -0.761144                    -0.531871    -0.410190   \n",
       "\n",
       "   bland_chromatin  normal_nucleoli   mitoses  \n",
       "0        -0.178616        -0.615082 -0.344869  \n",
       "1        -0.178616        -0.288866 -0.344869  \n",
       "2        -0.178616        -0.615082 -0.344869  "
      ]
     },
     "execution_count": 37,
     "metadata": {},
     "output_type": "execute_result"
    }
   ],
   "source": [
    "data_second.head(3)"
   ]
  },
  {
   "cell_type": "markdown",
   "metadata": {
    "id": "cHjedXQwblgH"
   },
   "source": [
    "### Checking Class Distribution"
   ]
  },
  {
   "cell_type": "markdown",
   "metadata": {
    "id": "okVyRdyFcwe7"
   },
   "source": [
    "#### Class Distribution Before Using Borderline SMOTE"
   ]
  },
  {
   "cell_type": "code",
   "execution_count": 38,
   "metadata": {
    "colab": {
     "base_uri": "https://localhost:8080/",
     "height": 449
    },
    "id": "qKr9IVH4pv9M",
    "outputId": "0e658fb0-75c0-49eb-c06f-92a11d7f84de"
   },
   "outputs": [
    {
     "data": {
      "image/png": "[encoded data removed]",
      "text/plain": [
       "<Figure size 504x432 with 1 Axes>"
      ]
     },
     "metadata": {},
     "output_type": "display_data"
    }
   ],
   "source": [
    "fig, ax = plt.subplots()\n",
    "sns.set(font_scale = 1.4)\n",
    "data['class'].value_counts().plot(kind='bar', figsize=(7, 6), rot = 0)\n",
    "plt.xlabel('Breast Cancer Type', labelpad=14)\n",
    "labels = [item.get_text() for item in ax.get_xticklabels()]\n",
    "labels = ['Benign', 'Malignant']\n",
    "ax.set_xticklabels(labels)\n",
    "plt.ylabel('Count', labelpad=14)\n",
    "plt.title('Breast Cancer Wisconsin Dataset', fontsize = 20, pad = 20)\n",
    "# plt.savefig('Wisconsin.png')\n",
    "plt.show()"
   ]
  },
  {
   "cell_type": "markdown",
   "metadata": {
    "id": "R1aJIHlZy-iz"
   },
   "source": [
    "#### Balancing Class Distribution Using Borderline SMOTE"
   ]
  },
  {
   "cell_type": "code",
   "execution_count": 39,
   "metadata": {
    "colab": {
     "base_uri": "https://localhost:8080/",
     "height": 131
    },
    "id": "0y7Qo5Vd8UQn",
    "outputId": "3807371a-d0c6-40b9-f421-826d15125562"
   },
   "outputs": [
    {
     "data": {
      "text/html": [
       "<div>\n",
       "<style scoped>\n",
       "    .dataframe tbody tr th:only-of-type {\n",
       "        vertical-align: middle;\n",
       "    }\n",
       "\n",
       "    .dataframe tbody tr th {\n",
       "        vertical-align: top;\n",
       "    }\n",
       "\n",
       "    .dataframe thead th {\n",
       "        text-align: right;\n",
       "    }\n",
       "</style>\n",
       "<table border=\"1\" class=\"dataframe\">\n",
       "  <thead>\n",
       "    <tr style=\"text-align: right;\">\n",
       "      <th></th>\n",
       "      <th>clump_thickness</th>\n",
       "      <th>uniformity_of_cell_size</th>\n",
       "      <th>uniformity_of_cell_shape</th>\n",
       "      <th>marginal_adhesion</th>\n",
       "      <th>single_epithelial_cell_size</th>\n",
       "      <th>bare_nuclei</th>\n",
       "      <th>bland_chromatin</th>\n",
       "      <th>normal_nucleoli</th>\n",
       "      <th>mitoses</th>\n",
       "      <th>class</th>\n",
       "    </tr>\n",
       "  </thead>\n",
       "  <tbody>\n",
       "    <tr>\n",
       "      <th>0</th>\n",
       "      <td>5</td>\n",
       "      <td>1</td>\n",
       "      <td>1</td>\n",
       "      <td>0.000000</td>\n",
       "      <td>0.693147</td>\n",
       "      <td>1</td>\n",
       "      <td>3</td>\n",
       "      <td>1</td>\n",
       "      <td>1</td>\n",
       "      <td>0</td>\n",
       "    </tr>\n",
       "    <tr>\n",
       "      <th>1</th>\n",
       "      <td>5</td>\n",
       "      <td>4</td>\n",
       "      <td>4</td>\n",
       "      <td>1.609438</td>\n",
       "      <td>1.945910</td>\n",
       "      <td>10</td>\n",
       "      <td>3</td>\n",
       "      <td>2</td>\n",
       "      <td>1</td>\n",
       "      <td>0</td>\n",
       "    </tr>\n",
       "  </tbody>\n",
       "</table>\n",
       "</div>"
      ],
      "text/plain": [
       "   clump_thickness  uniformity_of_cell_size  uniformity_of_cell_shape  \\\n",
       "0                5                        1                         1   \n",
       "1                5                        4                         4   \n",
       "\n",
       "   marginal_adhesion  single_epithelial_cell_size  bare_nuclei  \\\n",
       "0           0.000000                     0.693147            1   \n",
       "1           1.609438                     1.945910           10   \n",
       "\n",
       "   bland_chromatin  normal_nucleoli  mitoses  class  \n",
       "0                3                1        1      0  \n",
       "1                3                2        1      0  "
      ]
     },
     "execution_count": 39,
     "metadata": {},
     "output_type": "execute_result"
    }
   ],
   "source": [
    "data_second = data_class.copy()\n",
    "data_second.head(2)"
   ]
  },
  {
   "cell_type": "code",
   "execution_count": 40,
   "metadata": {
    "id": "PDUpPzm7qg4w"
   },
   "outputs": [],
   "source": [
    "X_bal = data_second.drop(columns='class')\n",
    "y_bal = data_second['class']\n",
    "\n",
    "bsm = BorderlineSMOTE(random_state = 42)\n",
    "\n",
    "X_res, y_res = bsm.fit_resample(X_bal, y_bal)"
   ]
  },
  {
   "cell_type": "code",
   "execution_count": 69,
   "metadata": {
    "colab": {
     "base_uri": "https://localhost:8080/",
     "height": 439
    },
    "id": "TS7w1YCwr1wR",
    "outputId": "503b52cc-7a01-480d-ba78-68119b200b40"
   },
   "outputs": [
    {
     "data": {
      "text/html": [
       "<div>\n",
       "<style scoped>\n",
       "    .dataframe tbody tr th:only-of-type {\n",
       "        vertical-align: middle;\n",
       "    }\n",
       "\n",
       "    .dataframe tbody tr th {\n",
       "        vertical-align: top;\n",
       "    }\n",
       "\n",
       "    .dataframe thead th {\n",
       "        text-align: right;\n",
       "    }\n",
       "</style>\n",
       "<table border=\"1\" class=\"dataframe\">\n",
       "  <thead>\n",
       "    <tr style=\"text-align: right;\">\n",
       "      <th></th>\n",
       "      <th>clump_thickness</th>\n",
       "      <th>uniformity_of_cell_size</th>\n",
       "      <th>uniformity_of_cell_shape</th>\n",
       "      <th>marginal_adhesion</th>\n",
       "      <th>single_epithelial_cell_size</th>\n",
       "      <th>bare_nuclei</th>\n",
       "      <th>bland_chromatin</th>\n",
       "      <th>normal_nucleoli</th>\n",
       "      <th>mitoses</th>\n",
       "    </tr>\n",
       "  </thead>\n",
       "  <tbody>\n",
       "    <tr>\n",
       "      <th>0</th>\n",
       "      <td>5</td>\n",
       "      <td>1</td>\n",
       "      <td>1</td>\n",
       "      <td>0.000000</td>\n",
       "      <td>0.693147</td>\n",
       "      <td>1</td>\n",
       "      <td>3</td>\n",
       "      <td>1</td>\n",
       "      <td>1</td>\n",
       "    </tr>\n",
       "    <tr>\n",
       "      <th>1</th>\n",
       "      <td>5</td>\n",
       "      <td>4</td>\n",
       "      <td>4</td>\n",
       "      <td>1.609438</td>\n",
       "      <td>1.945910</td>\n",
       "      <td>10</td>\n",
       "      <td>3</td>\n",
       "      <td>2</td>\n",
       "      <td>1</td>\n",
       "    </tr>\n",
       "    <tr>\n",
       "      <th>2</th>\n",
       "      <td>3</td>\n",
       "      <td>1</td>\n",
       "      <td>1</td>\n",
       "      <td>0.000000</td>\n",
       "      <td>0.693147</td>\n",
       "      <td>2</td>\n",
       "      <td>3</td>\n",
       "      <td>1</td>\n",
       "      <td>1</td>\n",
       "    </tr>\n",
       "    <tr>\n",
       "      <th>3</th>\n",
       "      <td>6</td>\n",
       "      <td>8</td>\n",
       "      <td>8</td>\n",
       "      <td>0.000000</td>\n",
       "      <td>1.098612</td>\n",
       "      <td>4</td>\n",
       "      <td>3</td>\n",
       "      <td>7</td>\n",
       "      <td>1</td>\n",
       "    </tr>\n",
       "    <tr>\n",
       "      <th>4</th>\n",
       "      <td>4</td>\n",
       "      <td>1</td>\n",
       "      <td>1</td>\n",
       "      <td>1.098612</td>\n",
       "      <td>0.693147</td>\n",
       "      <td>1</td>\n",
       "      <td>3</td>\n",
       "      <td>1</td>\n",
       "      <td>1</td>\n",
       "    </tr>\n",
       "  </tbody>\n",
       "</table>\n",
       "</div>"
      ],
      "text/plain": [
       "   clump_thickness  uniformity_of_cell_size  uniformity_of_cell_shape  \\\n",
       "0                5                        1                         1   \n",
       "1                5                        4                         4   \n",
       "2                3                        1                         1   \n",
       "3                6                        8                         8   \n",
       "4                4                        1                         1   \n",
       "\n",
       "   marginal_adhesion  single_epithelial_cell_size  bare_nuclei  \\\n",
       "0           0.000000                     0.693147            1   \n",
       "1           1.609438                     1.945910           10   \n",
       "2           0.000000                     0.693147            2   \n",
       "3           0.000000                     1.098612            4   \n",
       "4           1.098612                     0.693147            1   \n",
       "\n",
       "   bland_chromatin  normal_nucleoli  mitoses  \n",
       "0                3                1        1  \n",
       "1                3                2        1  \n",
       "2                3                1        1  \n",
       "3                3                7        1  \n",
       "4                3                1        1  "
      ]
     },
     "execution_count": 69,
     "metadata": {},
     "output_type": "execute_result"
    }
   ],
   "source": [
    "X_res.head()"
   ]
  },
  {
   "cell_type": "code",
   "execution_count": 53,
   "metadata": {},
   "outputs": [
    {
     "data": {
      "text/plain": [
       "0      0\n",
       "1      0\n",
       "2      0\n",
       "3      0\n",
       "4      0\n",
       "      ..\n",
       "899    1\n",
       "900    1\n",
       "901    1\n",
       "902    1\n",
       "903    1\n",
       "Name: class, Length: 904, dtype: int64"
      ]
     },
     "execution_count": 53,
     "metadata": {},
     "output_type": "execute_result"
    }
   ],
   "source": [
    "y_res"
   ]
  },
  {
   "cell_type": "code",
   "execution_count": 42,
   "metadata": {
    "colab": {
     "base_uri": "https://localhost:8080/"
    },
    "id": "UYaw6pfytcVB",
    "outputId": "5e5da0a1-c8fe-435c-e31d-65a18ea280fc"
   },
   "outputs": [
    {
     "data": {
      "text/plain": [
       "0    452\n",
       "1    452\n",
       "Name: class, dtype: int64"
      ]
     },
     "execution_count": 42,
     "metadata": {},
     "output_type": "execute_result"
    }
   ],
   "source": [
    "y_res.value_counts()"
   ]
  },
  {
   "cell_type": "markdown",
   "metadata": {
    "id": "v5CaV7dfurIi"
   },
   "source": [
    "#### Class Distribution After Using Borderline SMOTE"
   ]
  },
  {
   "cell_type": "code",
   "execution_count": 43,
   "metadata": {
    "colab": {
     "base_uri": "https://localhost:8080/",
     "height": 449
    },
    "id": "i5C2iQHXtr3t",
    "outputId": "9aadc21b-e8be-4e34-8dee-6de80c67afd8"
   },
   "outputs": [
    {
     "data": {
      "image/png": "[encoded data removed]",
      "text/plain": [
       "<Figure size 504x432 with 1 Axes>"
      ]
     },
     "metadata": {},
     "output_type": "display_data"
    }
   ],
   "source": [
    "fig, ax = plt.subplots()\n",
    "sns.set(font_scale = 1.4)\n",
    "y_res.value_counts().plot(kind='bar', figsize=(7, 6), rot = 0)\n",
    "plt.xlabel('Breast Cancer Type', labelpad=14)\n",
    "labels = [item.get_text() for item in ax.get_xticklabels()]\n",
    "labels = ['Benign', 'Malignant']\n",
    "ax.set_xticklabels(labels)\n",
    "plt.ylabel('Count', labelpad=14)\n",
    "plt.title('Breast Cancer Wisconsin Dataset after Using Borderline-SMOTE', fontsize = 20, pad = 20)\n",
    "# plt.savefig('Wisconsin.png')\n",
    "plt.show()"
   ]
  },
  {
   "cell_type": "markdown",
   "metadata": {
    "id": "Pz4daMyPuu3_"
   },
   "source": [
    "### Feature Standardization (Feature Scaling)"
   ]
  },
  {
   "cell_type": "code",
   "execution_count": 58,
   "metadata": {
    "colab": {
     "base_uri": "https://localhost:8080/"
    },
    "id": "lcY7birHt9xW",
    "outputId": "db212de3-aadf-467d-d030-ef3e554c06db"
   },
   "outputs": [
    {
     "data": {
      "text/plain": [
       "StandardScaler()"
      ]
     },
     "execution_count": 58,
     "metadata": {},
     "output_type": "execute_result"
    }
   ],
   "source": [
    "X_bal = X_res.copy()\n",
    "y_bal = y_res.copy()\n",
    "\n",
    "bsm_scaler = StandardScaler()\n",
    "bsm_scaler.fit(X_bal)"
   ]
  },
  {
   "cell_type": "code",
   "execution_count": 59,
   "metadata": {
    "colab": {
     "base_uri": "https://localhost:8080/",
     "height": 162
    },
    "id": "u_zbX9nWxA6Y",
    "outputId": "fc9652c6-bd6c-4a8c-d820-31fd94d508d0"
   },
   "outputs": [
    {
     "data": {
      "text/html": [
       "<div>\n",
       "<style scoped>\n",
       "    .dataframe tbody tr th:only-of-type {\n",
       "        vertical-align: middle;\n",
       "    }\n",
       "\n",
       "    .dataframe tbody tr th {\n",
       "        vertical-align: top;\n",
       "    }\n",
       "\n",
       "    .dataframe thead th {\n",
       "        text-align: right;\n",
       "    }\n",
       "</style>\n",
       "<table border=\"1\" class=\"dataframe\">\n",
       "  <thead>\n",
       "    <tr style=\"text-align: right;\">\n",
       "      <th></th>\n",
       "      <th>clump_thickness</th>\n",
       "      <th>uniformity_of_cell_size</th>\n",
       "      <th>uniformity_of_cell_shape</th>\n",
       "      <th>marginal_adhesion</th>\n",
       "      <th>single_epithelial_cell_size</th>\n",
       "      <th>bare_nuclei</th>\n",
       "      <th>bland_chromatin</th>\n",
       "      <th>normal_nucleoli</th>\n",
       "      <th>mitoses</th>\n",
       "    </tr>\n",
       "  </thead>\n",
       "  <tbody>\n",
       "    <tr>\n",
       "      <th>0</th>\n",
       "      <td>0.151743</td>\n",
       "      <td>-0.805169</td>\n",
       "      <td>-0.861167</td>\n",
       "      <td>-0.868595</td>\n",
       "      <td>-0.666349</td>\n",
       "      <td>-0.685941</td>\n",
       "      <td>-0.183838</td>\n",
       "      <td>-0.696156</td>\n",
       "      <td>-0.312254</td>\n",
       "    </tr>\n",
       "    <tr>\n",
       "      <th>1</th>\n",
       "      <td>0.151743</td>\n",
       "      <td>0.298226</td>\n",
       "      <td>0.279207</td>\n",
       "      <td>1.068263</td>\n",
       "      <td>1.609839</td>\n",
       "      <td>2.096120</td>\n",
       "      <td>-0.183838</td>\n",
       "      <td>-0.371929</td>\n",
       "      <td>-0.312254</td>\n",
       "    </tr>\n",
       "    <tr>\n",
       "      <th>2</th>\n",
       "      <td>-0.629885</td>\n",
       "      <td>-0.805169</td>\n",
       "      <td>-0.861167</td>\n",
       "      <td>-0.868595</td>\n",
       "      <td>-0.666349</td>\n",
       "      <td>-0.376823</td>\n",
       "      <td>-0.183838</td>\n",
       "      <td>-0.696156</td>\n",
       "      <td>-0.312254</td>\n",
       "    </tr>\n",
       "  </tbody>\n",
       "</table>\n",
       "</div>"
      ],
      "text/plain": [
       "   clump_thickness  uniformity_of_cell_size  uniformity_of_cell_shape  \\\n",
       "0         0.151743                -0.805169                 -0.861167   \n",
       "1         0.151743                 0.298226                  0.279207   \n",
       "2        -0.629885                -0.805169                 -0.861167   \n",
       "\n",
       "   marginal_adhesion  single_epithelial_cell_size  bare_nuclei  \\\n",
       "0          -0.868595                    -0.666349    -0.685941   \n",
       "1           1.068263                     1.609839     2.096120   \n",
       "2          -0.868595                    -0.666349    -0.376823   \n",
       "\n",
       "   bland_chromatin  normal_nucleoli   mitoses  \n",
       "0        -0.183838        -0.696156 -0.312254  \n",
       "1        -0.183838        -0.371929 -0.312254  \n",
       "2        -0.183838        -0.696156 -0.312254  "
      ]
     },
     "execution_count": 59,
     "metadata": {},
     "output_type": "execute_result"
    }
   ],
   "source": [
    "bal_fe = X_res.copy()\n",
    "bsm_scaled_features = bsm_scaler.transform(bal_fe)\n",
    "columns = ['clump_thickness', 'uniformity_of_cell_size', 'uniformity_of_cell_shape',\n",
    "           'marginal_adhesion', 'single_epithelial_cell_size', 'bare_nuclei', \n",
    "           'bland_chromatin', 'normal_nucleoli', 'mitoses']\n",
    "\n",
    "bal_fs = pd.DataFrame(bsm_scaled_features, columns = columns)\n",
    "bal_fs.head(3)"
   ]
  },
  {
   "cell_type": "markdown",
   "metadata": {
    "id": "E-jLqm9sxkJ7"
   },
   "source": [
    "### Copying the Data"
   ]
  },
  {
   "cell_type": "code",
   "execution_count": 77,
   "metadata": {},
   "outputs": [
    {
     "data": {
      "text/html": [
       "<div>\n",
       "<style scoped>\n",
       "    .dataframe tbody tr th:only-of-type {\n",
       "        vertical-align: middle;\n",
       "    }\n",
       "\n",
       "    .dataframe tbody tr th {\n",
       "        vertical-align: top;\n",
       "    }\n",
       "\n",
       "    .dataframe thead th {\n",
       "        text-align: right;\n",
       "    }\n",
       "</style>\n",
       "<table border=\"1\" class=\"dataframe\">\n",
       "  <thead>\n",
       "    <tr style=\"text-align: right;\">\n",
       "      <th></th>\n",
       "      <th>clump_thickness</th>\n",
       "      <th>uniformity_of_cell_size</th>\n",
       "      <th>uniformity_of_cell_shape</th>\n",
       "      <th>marginal_adhesion</th>\n",
       "      <th>single_epithelial_cell_size</th>\n",
       "      <th>bare_nuclei</th>\n",
       "      <th>bland_chromatin</th>\n",
       "      <th>normal_nucleoli</th>\n",
       "      <th>mitoses</th>\n",
       "    </tr>\n",
       "  </thead>\n",
       "  <tbody>\n",
       "    <tr>\n",
       "      <th>899</th>\n",
       "      <td>0.151743</td>\n",
       "      <td>-0.437371</td>\n",
       "      <td>-0.100918</td>\n",
       "      <td>0.324168</td>\n",
       "      <td>-0.594274</td>\n",
       "      <td>-0.067705</td>\n",
       "      <td>-0.183838</td>\n",
       "      <td>-0.047702</td>\n",
       "      <td>-0.312254</td>\n",
       "    </tr>\n",
       "    <tr>\n",
       "      <th>900</th>\n",
       "      <td>-0.629885</td>\n",
       "      <td>-0.069572</td>\n",
       "      <td>-0.100918</td>\n",
       "      <td>1.360318</td>\n",
       "      <td>0.180029</td>\n",
       "      <td>-0.376823</td>\n",
       "      <td>-0.183838</td>\n",
       "      <td>-0.047702</td>\n",
       "      <td>-0.312254</td>\n",
       "    </tr>\n",
       "    <tr>\n",
       "      <th>901</th>\n",
       "      <td>0.933372</td>\n",
       "      <td>0.298226</td>\n",
       "      <td>0.659331</td>\n",
       "      <td>0.404773</td>\n",
       "      <td>0.384657</td>\n",
       "      <td>-0.685941</td>\n",
       "      <td>0.279085</td>\n",
       "      <td>-0.371929</td>\n",
       "      <td>-0.312254</td>\n",
       "    </tr>\n",
       "    <tr>\n",
       "      <th>902</th>\n",
       "      <td>0.542557</td>\n",
       "      <td>0.298226</td>\n",
       "      <td>0.659331</td>\n",
       "      <td>0.884238</td>\n",
       "      <td>1.490513</td>\n",
       "      <td>-0.685941</td>\n",
       "      <td>-0.183838</td>\n",
       "      <td>-0.371929</td>\n",
       "      <td>-0.312254</td>\n",
       "    </tr>\n",
       "    <tr>\n",
       "      <th>903</th>\n",
       "      <td>0.542557</td>\n",
       "      <td>-0.437371</td>\n",
       "      <td>-0.100918</td>\n",
       "      <td>-0.868595</td>\n",
       "      <td>0.822592</td>\n",
       "      <td>-0.067705</td>\n",
       "      <td>-0.183838</td>\n",
       "      <td>1.897661</td>\n",
       "      <td>-0.312254</td>\n",
       "    </tr>\n",
       "  </tbody>\n",
       "</table>\n",
       "</div>"
      ],
      "text/plain": [
       "     clump_thickness  uniformity_of_cell_size  uniformity_of_cell_shape  \\\n",
       "899         0.151743                -0.437371                 -0.100918   \n",
       "900        -0.629885                -0.069572                 -0.100918   \n",
       "901         0.933372                 0.298226                  0.659331   \n",
       "902         0.542557                 0.298226                  0.659331   \n",
       "903         0.542557                -0.437371                 -0.100918   \n",
       "\n",
       "     marginal_adhesion  single_epithelial_cell_size  bare_nuclei  \\\n",
       "899           0.324168                    -0.594274    -0.067705   \n",
       "900           1.360318                     0.180029    -0.376823   \n",
       "901           0.404773                     0.384657    -0.685941   \n",
       "902           0.884238                     1.490513    -0.685941   \n",
       "903          -0.868595                     0.822592    -0.067705   \n",
       "\n",
       "     bland_chromatin  normal_nucleoli   mitoses  \n",
       "899        -0.183838        -0.047702 -0.312254  \n",
       "900        -0.183838        -0.047702 -0.312254  \n",
       "901         0.279085        -0.371929 -0.312254  \n",
       "902        -0.183838        -0.371929 -0.312254  \n",
       "903        -0.183838         1.897661 -0.312254  "
      ]
     },
     "execution_count": 77,
     "metadata": {},
     "output_type": "execute_result"
    }
   ],
   "source": [
    "bal_fs.tail()"
   ]
  },
  {
   "cell_type": "code",
   "execution_count": null,
   "metadata": {},
   "outputs": [],
   "source": []
  },
  {
   "cell_type": "code",
   "execution_count": 94,
   "metadata": {
    "id": "TaRlDflexkm-"
   },
   "outputs": [],
   "source": [
    "bal_data = bal_fs.copy()"
   ]
  },
  {
   "cell_type": "markdown",
   "metadata": {
    "id": "lmEvrKhLxw69"
   },
   "source": [
    "### Feature Selection"
   ]
  },
  {
   "cell_type": "code",
   "execution_count": 95,
   "metadata": {
    "id": "FkELPRhYxtM9"
   },
   "outputs": [],
   "source": [
    "X_bsm = bal_data\n",
    "y_bsm = y_bal\n",
    "\n",
    "bsm_scoring = {'accuracy' : make_scorer(accuracy_score),\n",
    "               'precision' : make_scorer(precision_score),\n",
    "               'recall' : make_scorer(recall_score),\n",
    "               'f1_score' : make_scorer(f1_score)}\n",
    "           \n",
    "bsm_kfold = model_selection.KFold(n_splits = 10, shuffle = True)"
   ]
  },
  {
   "cell_type": "markdown",
   "metadata": {
    "id": "wio2uU9UyGZO"
   },
   "source": [
    "### Breast Cancer Prediction using Random Forest Classifier with 10 K-folds CV with Borderline-SMOTE"
   ]
  },
  {
   "cell_type": "code",
   "execution_count": 96,
   "metadata": {
    "id": "053Jx0ZgyFQX"
   },
   "outputs": [],
   "source": [
    "rf_bsm = RandomForestClassifier(n_estimators = 40, random_state = 0)\n",
    "\n",
    "rf_bsm_results = sklearn.model_selection.cross_validate(estimator = rf_bsm,\n",
    "                                                        X = X_bsm, \n",
    "                                                        y = y_bsm,\n",
    "                                                        cv = bsm_kfold,\n",
    "                                                        scoring = bsm_scoring)"
   ]
  },
  {
   "cell_type": "code",
   "execution_count": 97,
   "metadata": {
    "colab": {
     "base_uri": "https://localhost:8080/"
    },
    "id": "Ml2zEMDsyBUK",
    "outputId": "405fefee-9067-4677-e768-0186ab670e41"
   },
   "outputs": [
    {
     "name": "stdout",
     "output_type": "stream",
     "text": [
      "Random Forest Performance Evaluation (K-Fold Cross Val)\n",
      "\n",
      "Accuracy Score   : 0.973\n",
      "Precision Score  : 0.957\n",
      "Recall Score     : 0.991\n",
      "F1-Measure Score : 0.973\n"
     ]
    }
   ],
   "source": [
    "rf_bsm_accuracy = round((np.mean(rf_bsm_results.get('test_accuracy'))), 3)\n",
    "rf_bsm_precision = round((np.mean(rf_bsm_results.get('test_precision'))), 3)\n",
    "rf_bsm_recall = round((np.mean(rf_bsm_results.get('test_recall'))), 3)\n",
    "rf_bsm_f1score = round((np.mean(rf_bsm_results.get('test_f1_score'))), 3)\n",
    "\n",
    "print('Random Forest Performance Evaluation (K-Fold Cross Val)\\n')\n",
    "print(f'Accuracy Score   : {rf_bsm_accuracy}')\n",
    "print(f'Precision Score  : {rf_bsm_precision}')\n",
    "print(f'Recall Score     : {rf_bsm_recall}')\n",
    "print(f'F1-Measure Score : {rf_bsm_f1score}')"
   ]
  },
  {
   "cell_type": "markdown",
   "metadata": {
    "id": "Di9k3cDIzUeB"
   },
   "source": [
    "### Breast Cancer Prediction using Gaussian Naive Bayes Classifier with 10 K-folds CV with Borderline-SMOTE"
   ]
  },
  {
   "cell_type": "code",
   "execution_count": 98,
   "metadata": {
    "id": "ECXktqMdzTal"
   },
   "outputs": [],
   "source": [
    "gnb_bsm = GaussianNB()\n",
    "\n",
    "gnb_bsm_results = sklearn.model_selection.cross_validate(estimator = gnb_bsm,\n",
    "                                                         X = X_bsm, \n",
    "                                                         y = y_bsm,\n",
    "                                                         cv = bsm_kfold,\n",
    "                                                         scoring = bsm_scoring)"
   ]
  },
  {
   "cell_type": "code",
   "execution_count": 99,
   "metadata": {
    "colab": {
     "base_uri": "https://localhost:8080/"
    },
    "id": "b3KnlPi4zK_I",
    "outputId": "86149336-c32b-4189-a0f8-961f660415e8"
   },
   "outputs": [
    {
     "name": "stdout",
     "output_type": "stream",
     "text": [
      "Gaussian Naive Bayes Performance Evaluation (K-Fold Cross Val)\n",
      "\n",
      "Accuracy Score   : 0.884\n",
      "Precision Score  : 0.94\n",
      "Recall Score     : 0.822\n",
      "F1-Measure Score : 0.876\n"
     ]
    }
   ],
   "source": [
    "gnb_bsm_accuracy = round((np.mean(gnb_bsm_results.get('test_accuracy'))), 3)\n",
    "gnb_bsm_precision = round((np.mean(gnb_bsm_results.get('test_precision'))), 3)\n",
    "gnb_bsm_recall = round((np.mean(gnb_bsm_results.get('test_recall'))), 3)\n",
    "gnb_bsm_f1score = round((np.mean(gnb_bsm_results.get('test_f1_score'))), 3)\n",
    "\n",
    "print('Gaussian Naive Bayes Performance Evaluation (K-Fold Cross Val)\\n')\n",
    "print(f'Accuracy Score   : {gnb_bsm_accuracy}')\n",
    "print(f'Precision Score  : {gnb_bsm_precision}')\n",
    "print(f'Recall Score     : {gnb_bsm_recall}')\n",
    "print(f'F1-Measure Score : {gnb_bsm_f1score}')"
   ]
  },
  {
   "cell_type": "markdown",
   "metadata": {
    "id": "C1JBIS236pXR"
   },
   "source": [
    "### Second Research Scenario Conclusion"
   ]
  },
  {
   "cell_type": "markdown",
   "metadata": {
    "id": "NBcWIMjF6vQw"
   },
   "source": [
    "Based from second research scenario result, we can put the result into Tabel 4, which shown by figure below."
   ]
  },
  {
   "cell_type": "markdown",
   "metadata": {
    "id": "Q_iCBmWk7jpo"
   },
   "source": [
    "![image.png](data:image/png;base64,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)"
   ]
  },
  {
   "cell_type": "markdown",
   "metadata": {
    "id": "vC1mzrvv7lKU"
   },
   "source": [
    "Second research scenario giving us a remarkable result. The combination of Random Forest and Borderline SMOTE successfully improving the performance by increasing the accuracy into 97.2% and the F-Measure into 97.2%. Meanwhile the combination of Gaussian Naive Bayes Classifier and Borderline SMOTE gives the worst performance from all models, which gives 88.5% accuracy and 87.6% F-Measure score."
   ]
  },
  {
   "cell_type": "markdown",
   "metadata": {
    "id": "Uf1P_KE0A1tW"
   },
   "source": [
    "## Research Conclusion"
   ]
  },
  {
   "cell_type": "markdown",
   "metadata": {
    "id": "PEpy8sE8829H"
   },
   "source": [
    "![image.png](data:image/png;base64,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)"
   ]
  },
  {
   "cell_type": "markdown",
   "metadata": {
    "id": "ISaOoLbR6uwb"
   },
   "source": [
    "## Model Deployment"
   ]
  },
  {
   "cell_type": "markdown",
   "metadata": {},
   "source": [
    "### Train the selected model"
   ]
  },
  {
   "cell_type": "code",
   "execution_count": 52,
   "metadata": {},
   "outputs": [],
   "source": [
    "# pickle_out = open('rf_bsm_classifier.pkl', mode = 'wb')\n",
    "# pickle.dump(rf_bsm, pickle_out)\n",
    "# pickle_out.close()"
   ]
  },
  {
   "cell_type": "code",
   "execution_count": 100,
   "metadata": {},
   "outputs": [],
   "source": [
    "final_model = rf_bsm.fit(X_bsm, y_bsm)"
   ]
  },
  {
   "cell_type": "code",
   "execution_count": 101,
   "metadata": {},
   "outputs": [
    {
     "name": "stdout",
     "output_type": "stream",
     "text": [
      "[1]\n"
     ]
    }
   ],
   "source": [
    "prediction = final_model.predict([[6, 4, 5, 1.456522, 1.880235, 1, 3, 2, 1]])\n",
    "print(prediction)"
   ]
  },
  {
   "cell_type": "code",
   "execution_count": 102,
   "metadata": {},
   "outputs": [
    {
     "name": "stdout",
     "output_type": "stream",
     "text": [
      "[1]\n"
     ]
    }
   ],
   "source": [
    "pred2 = final_model.predict([[0.933372, 0.298226, 0.659331, 0.404773, 0.384657, -0.685941, 0.279085, -0.371929, -0.312254]])\n",
    "print(pred2)"
   ]
  },
  {
   "cell_type": "code",
   "execution_count": 103,
   "metadata": {},
   "outputs": [
    {
     "name": "stdout",
     "output_type": "stream",
     "text": [
      "[1]\n"
     ]
    }
   ],
   "source": [
    "pred3 = final_model.predict([[0.542557, -0.437371, -0.100918, -0.868595, 0.822592, -0.067705, -0.183838, 1.897661, -0.312254]])\n",
    "print(pred3)"
   ]
  },
  {
   "cell_type": "code",
   "execution_count": 105,
   "metadata": {},
   "outputs": [
    {
     "name": "stdout",
     "output_type": "stream",
     "text": [
      "[0]\n"
     ]
    }
   ],
   "source": [
    "pred4 = final_model.predict([[0.151743, -0.805169, -0.861167, -0.868595, -0.666349, -0.685941, -0.183838, -0.696156, -0.312254]])\n",
    "print(pred4)"
   ]
  },
  {
   "cell_type": "code",
   "execution_count": 109,
   "metadata": {},
   "outputs": [
    {
     "data": {
      "text/plain": [
       "array([1, 1, 1, 1], dtype=int64)"
      ]
     },
     "execution_count": 109,
     "metadata": {},
     "output_type": "execute_result"
    }
   ],
   "source": [
    "pred5 = final_model.predict(X_bsm[-5:-1])\n",
    "pred5"
   ]
  },
  {
   "cell_type": "code",
   "execution_count": 106,
   "metadata": {},
   "outputs": [
    {
     "data": {
      "text/html": [
       "<div>\n",
       "<style scoped>\n",
       "    .dataframe tbody tr th:only-of-type {\n",
       "        vertical-align: middle;\n",
       "    }\n",
       "\n",
       "    .dataframe tbody tr th {\n",
       "        vertical-align: top;\n",
       "    }\n",
       "\n",
       "    .dataframe thead th {\n",
       "        text-align: right;\n",
       "    }\n",
       "</style>\n",
       "<table border=\"1\" class=\"dataframe\">\n",
       "  <thead>\n",
       "    <tr style=\"text-align: right;\">\n",
       "      <th></th>\n",
       "      <th>clump_thickness</th>\n",
       "      <th>uniformity_of_cell_size</th>\n",
       "      <th>uniformity_of_cell_shape</th>\n",
       "      <th>marginal_adhesion</th>\n",
       "      <th>single_epithelial_cell_size</th>\n",
       "      <th>bare_nuclei</th>\n",
       "      <th>bland_chromatin</th>\n",
       "      <th>normal_nucleoli</th>\n",
       "      <th>mitoses</th>\n",
       "    </tr>\n",
       "  </thead>\n",
       "  <tbody>\n",
       "    <tr>\n",
       "      <th>0</th>\n",
       "      <td>0.151743</td>\n",
       "      <td>-0.805169</td>\n",
       "      <td>-0.861167</td>\n",
       "      <td>-0.868595</td>\n",
       "      <td>-0.666349</td>\n",
       "      <td>-0.685941</td>\n",
       "      <td>-0.183838</td>\n",
       "      <td>-0.696156</td>\n",
       "      <td>-0.312254</td>\n",
       "    </tr>\n",
       "    <tr>\n",
       "      <th>1</th>\n",
       "      <td>0.151743</td>\n",
       "      <td>0.298226</td>\n",
       "      <td>0.279207</td>\n",
       "      <td>1.068263</td>\n",
       "      <td>1.609839</td>\n",
       "      <td>2.096120</td>\n",
       "      <td>-0.183838</td>\n",
       "      <td>-0.371929</td>\n",
       "      <td>-0.312254</td>\n",
       "    </tr>\n",
       "    <tr>\n",
       "      <th>2</th>\n",
       "      <td>-0.629885</td>\n",
       "      <td>-0.805169</td>\n",
       "      <td>-0.861167</td>\n",
       "      <td>-0.868595</td>\n",
       "      <td>-0.666349</td>\n",
       "      <td>-0.376823</td>\n",
       "      <td>-0.183838</td>\n",
       "      <td>-0.696156</td>\n",
       "      <td>-0.312254</td>\n",
       "    </tr>\n",
       "    <tr>\n",
       "      <th>3</th>\n",
       "      <td>0.542557</td>\n",
       "      <td>1.769419</td>\n",
       "      <td>1.799705</td>\n",
       "      <td>-0.868595</td>\n",
       "      <td>0.070354</td>\n",
       "      <td>0.241413</td>\n",
       "      <td>-0.183838</td>\n",
       "      <td>1.249207</td>\n",
       "      <td>-0.312254</td>\n",
       "    </tr>\n",
       "    <tr>\n",
       "      <th>4</th>\n",
       "      <td>-0.239071</td>\n",
       "      <td>-0.805169</td>\n",
       "      <td>-0.861167</td>\n",
       "      <td>0.453516</td>\n",
       "      <td>-0.666349</td>\n",
       "      <td>-0.685941</td>\n",
       "      <td>-0.183838</td>\n",
       "      <td>-0.696156</td>\n",
       "      <td>-0.312254</td>\n",
       "    </tr>\n",
       "  </tbody>\n",
       "</table>\n",
       "</div>"
      ],
      "text/plain": [
       "   clump_thickness  uniformity_of_cell_size  uniformity_of_cell_shape  \\\n",
       "0         0.151743                -0.805169                 -0.861167   \n",
       "1         0.151743                 0.298226                  0.279207   \n",
       "2        -0.629885                -0.805169                 -0.861167   \n",
       "3         0.542557                 1.769419                  1.799705   \n",
       "4        -0.239071                -0.805169                 -0.861167   \n",
       "\n",
       "   marginal_adhesion  single_epithelial_cell_size  bare_nuclei  \\\n",
       "0          -0.868595                    -0.666349    -0.685941   \n",
       "1           1.068263                     1.609839     2.096120   \n",
       "2          -0.868595                    -0.666349    -0.376823   \n",
       "3          -0.868595                     0.070354     0.241413   \n",
       "4           0.453516                    -0.666349    -0.685941   \n",
       "\n",
       "   bland_chromatin  normal_nucleoli   mitoses  \n",
       "0        -0.183838        -0.696156 -0.312254  \n",
       "1        -0.183838        -0.371929 -0.312254  \n",
       "2        -0.183838        -0.696156 -0.312254  \n",
       "3        -0.183838         1.249207 -0.312254  \n",
       "4        -0.183838        -0.696156 -0.312254  "
      ]
     },
     "execution_count": 106,
     "metadata": {},
     "output_type": "execute_result"
    }
   ],
   "source": [
    "X_bsm[:5]"
   ]
  },
  {
   "cell_type": "code",
   "execution_count": 108,
   "metadata": {},
   "outputs": [
    {
     "data": {
      "text/plain": [
       "array([0, 0, 0, 0, 0], dtype=int64)"
      ]
     },
     "execution_count": 108,
     "metadata": {},
     "output_type": "execute_result"
    }
   ],
   "source": [
    "pred5"
   ]
  },
  {
   "cell_type": "markdown",
   "metadata": {},
   "source": [
    "### Model Extraction Using Pickle"
   ]
  },
  {
   "cell_type": "code",
   "execution_count": 110,
   "metadata": {},
   "outputs": [],
   "source": [
    "pickle_out = open('rf_bsm_final_model.pkl', mode = 'wb')\n",
    "pickle.dump(final_model, pickle_out)\n",
    "pickle_out.close()"
   ]
  },
  {
   "cell_type": "code",
   "execution_count": 111,
   "metadata": {},
   "outputs": [],
   "source": [
    "pickle_out_scaler = open('bsm_scaler.pkl', mode = 'wb')\n",
    "pickle.dump(bsm_scaler, pickle_out_scaler)\n",
    "pickle_out_scaler.close()"
   ]
  },
  {
   "cell_type": "code",
   "execution_count": null,
   "metadata": {},
   "outputs": [],
   "source": []
  }
 ],
 "metadata": {
  "colab": {
   "collapsed_sections": [],
   "name": "Wisconsin Breast Cancer Prediction.ipynb",
   "provenance": []
  },
  "kernelspec": {
   "display_name": "Python 3 (ipykernel)",
   "language": "python",
   "name": "python3"
  },
  "language_info": {
   "codemirror_mode": {
    "name": "ipython",
    "version": 3
   },
   "file_extension": ".py",
   "mimetype": "text/x-python",
   "name": "python",
   "nbconvert_exporter": "python",
   "pygments_lexer": "ipython3",
   "version": "3.9.9"
  },
  "latex_envs": {
   "LaTeX_envs_menu_present": true,
   "autoclose": false,
   "autocomplete": true,
   "bibliofile": "biblio.bib",
   "cite_by": "apalike",
   "current_citInitial": 1,
   "eqLabelWithNumbers": true,
   "eqNumInitial": 1,
   "hotkeys": {
    "equation": "Ctrl-E",
    "itemize": "Ctrl-I"
   },
   "labels_anchors": false,
   "latex_user_defs": false,
   "report_style_numbering": false,
   "user_envs_cfg": false
  },
  "toc": {
   "base_numbering": 1,
   "nav_menu": {},
   "number_sections": false,
   "sideBar": true,
   "skip_h1_title": false,
   "title_cell": "Table of Contents",
   "title_sidebar": "Contents",
   "toc_cell": false,
   "toc_position": {
    "height": "calc(100% - 180px)",
    "left": "10px",
    "top": "150px",
    "width": "244.188px"
   },
   "toc_section_display": true,
   "toc_window_display": false
  }
 },
 "nbformat": 4,
 "nbformat_minor": 1
}
